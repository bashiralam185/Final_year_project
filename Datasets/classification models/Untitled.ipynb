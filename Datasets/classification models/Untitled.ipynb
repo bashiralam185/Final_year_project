{
 "cells": [
  {
   "cell_type": "code",
   "execution_count": 1,
   "id": "0febab14",
   "metadata": {},
   "outputs": [
    {
     "data": {
      "text/html": [
       "<div>\n",
       "<style scoped>\n",
       "    .dataframe tbody tr th:only-of-type {\n",
       "        vertical-align: middle;\n",
       "    }\n",
       "\n",
       "    .dataframe tbody tr th {\n",
       "        vertical-align: top;\n",
       "    }\n",
       "\n",
       "    .dataframe thead th {\n",
       "        text-align: right;\n",
       "    }\n",
       "</style>\n",
       "<table border=\"1\" class=\"dataframe\">\n",
       "  <thead>\n",
       "    <tr style=\"text-align: right;\">\n",
       "      <th></th>\n",
       "      <th>Unnamed: 0</th>\n",
       "      <th>Site</th>\n",
       "      <th>Parameter</th>\n",
       "      <th>Date (LT)</th>\n",
       "      <th>Year</th>\n",
       "      <th>Month</th>\n",
       "      <th>Day</th>\n",
       "      <th>Hour</th>\n",
       "      <th>NowCast Conc.</th>\n",
       "      <th>AQI</th>\n",
       "      <th>AQI Category</th>\n",
       "      <th>Raw Conc.</th>\n",
       "      <th>Conc. Unit</th>\n",
       "      <th>Duration</th>\n",
       "      <th>QC Name</th>\n",
       "    </tr>\n",
       "  </thead>\n",
       "  <tbody>\n",
       "    <tr>\n",
       "      <th>33515</th>\n",
       "      <td>212</td>\n",
       "      <td>Bishkek</td>\n",
       "      <td>PM2.5 - Principal</td>\n",
       "      <td>2022-10-10 20:00:00</td>\n",
       "      <td>2022</td>\n",
       "      <td>10</td>\n",
       "      <td>10</td>\n",
       "      <td>20</td>\n",
       "      <td>33.7</td>\n",
       "      <td>96</td>\n",
       "      <td>Moderate</td>\n",
       "      <td>46.0</td>\n",
       "      <td>UG/M3</td>\n",
       "      <td>1 Hr</td>\n",
       "      <td>Valid</td>\n",
       "    </tr>\n",
       "    <tr>\n",
       "      <th>33516</th>\n",
       "      <td>213</td>\n",
       "      <td>Bishkek</td>\n",
       "      <td>PM2.5 - Principal</td>\n",
       "      <td>2022-10-10 21:00:00</td>\n",
       "      <td>2022</td>\n",
       "      <td>10</td>\n",
       "      <td>10</td>\n",
       "      <td>21</td>\n",
       "      <td>36.8</td>\n",
       "      <td>104</td>\n",
       "      <td>Unhealthy for Sensitive Groups</td>\n",
       "      <td>40.0</td>\n",
       "      <td>UG/M3</td>\n",
       "      <td>1 Hr</td>\n",
       "      <td>Valid</td>\n",
       "    </tr>\n",
       "    <tr>\n",
       "      <th>33517</th>\n",
       "      <td>214</td>\n",
       "      <td>Bishkek</td>\n",
       "      <td>PM2.5 - Principal</td>\n",
       "      <td>2022-10-10 22:00:00</td>\n",
       "      <td>2022</td>\n",
       "      <td>10</td>\n",
       "      <td>10</td>\n",
       "      <td>22</td>\n",
       "      <td>35.4</td>\n",
       "      <td>100</td>\n",
       "      <td>Moderate</td>\n",
       "      <td>34.0</td>\n",
       "      <td>UG/M3</td>\n",
       "      <td>1 Hr</td>\n",
       "      <td>Valid</td>\n",
       "    </tr>\n",
       "    <tr>\n",
       "      <th>33518</th>\n",
       "      <td>215</td>\n",
       "      <td>Bishkek</td>\n",
       "      <td>PM2.5 - Principal</td>\n",
       "      <td>2022-10-10 23:00:00</td>\n",
       "      <td>2022</td>\n",
       "      <td>10</td>\n",
       "      <td>10</td>\n",
       "      <td>23</td>\n",
       "      <td>33.2</td>\n",
       "      <td>95</td>\n",
       "      <td>Moderate</td>\n",
       "      <td>31.0</td>\n",
       "      <td>UG/M3</td>\n",
       "      <td>1 Hr</td>\n",
       "      <td>Valid</td>\n",
       "    </tr>\n",
       "    <tr>\n",
       "      <th>33519</th>\n",
       "      <td>216</td>\n",
       "      <td>Bishkek</td>\n",
       "      <td>PM2.5 - Principal</td>\n",
       "      <td>2022-10-11 00:00:00</td>\n",
       "      <td>2022</td>\n",
       "      <td>10</td>\n",
       "      <td>11</td>\n",
       "      <td>0</td>\n",
       "      <td>33.1</td>\n",
       "      <td>95</td>\n",
       "      <td>Moderate</td>\n",
       "      <td>33.0</td>\n",
       "      <td>UG/M3</td>\n",
       "      <td>1 Hr</td>\n",
       "      <td>Valid</td>\n",
       "    </tr>\n",
       "  </tbody>\n",
       "</table>\n",
       "</div>"
      ],
      "text/plain": [
       "       Unnamed: 0     Site          Parameter            Date (LT)  Year  \\\n",
       "33515         212  Bishkek  PM2.5 - Principal  2022-10-10 20:00:00  2022   \n",
       "33516         213  Bishkek  PM2.5 - Principal  2022-10-10 21:00:00  2022   \n",
       "33517         214  Bishkek  PM2.5 - Principal  2022-10-10 22:00:00  2022   \n",
       "33518         215  Bishkek  PM2.5 - Principal  2022-10-10 23:00:00  2022   \n",
       "33519         216  Bishkek  PM2.5 - Principal  2022-10-11 00:00:00  2022   \n",
       "\n",
       "       Month  Day  Hour  NowCast Conc.  AQI                    AQI Category  \\\n",
       "33515     10   10    20           33.7   96                        Moderate   \n",
       "33516     10   10    21           36.8  104  Unhealthy for Sensitive Groups   \n",
       "33517     10   10    22           35.4  100                        Moderate   \n",
       "33518     10   10    23           33.2   95                        Moderate   \n",
       "33519     10   11     0           33.1   95                        Moderate   \n",
       "\n",
       "       Raw Conc. Conc. Unit Duration QC Name  \n",
       "33515       46.0      UG/M3     1 Hr   Valid  \n",
       "33516       40.0      UG/M3     1 Hr   Valid  \n",
       "33517       34.0      UG/M3     1 Hr   Valid  \n",
       "33518       31.0      UG/M3     1 Hr   Valid  \n",
       "33519       33.0      UG/M3     1 Hr   Valid  "
      ]
     },
     "execution_count": 1,
     "metadata": {},
     "output_type": "execute_result"
    }
   ],
   "source": [
    "import pandas as pd\n",
    "\n",
    "data = pd.read_csv(\"../pm2_data.csv\")\n",
    "\n",
    "data.tail()"
   ]
  },
  {
   "cell_type": "code",
   "execution_count": 2,
   "id": "506144bb",
   "metadata": {},
   "outputs": [
    {
     "data": {
      "text/plain": [
       "Unnamed: 0         0\n",
       "Site               0\n",
       "Parameter          0\n",
       "Date (LT)          0\n",
       "Year               0\n",
       "Month              0\n",
       "Day                0\n",
       "Hour               0\n",
       "NowCast Conc.      0\n",
       "AQI                0\n",
       "AQI Category     202\n",
       "Raw Conc.          0\n",
       "Conc. Unit         0\n",
       "Duration           0\n",
       "QC Name            0\n",
       "dtype: int64"
      ]
     },
     "execution_count": 2,
     "metadata": {},
     "output_type": "execute_result"
    }
   ],
   "source": [
    "data.isnull().sum()"
   ]
  },
  {
   "cell_type": "code",
   "execution_count": 3,
   "id": "39b60d7d",
   "metadata": {},
   "outputs": [],
   "source": [
    "data.dropna(inplace=True)"
   ]
  },
  {
   "cell_type": "code",
   "execution_count": 4,
   "id": "d4ebf03c",
   "metadata": {},
   "outputs": [
    {
     "data": {
      "text/plain": [
       "array(['Valid', 'Invalid', 'Missing', 'Suspect'], dtype=object)"
      ]
     },
     "execution_count": 4,
     "metadata": {},
     "output_type": "execute_result"
    }
   ],
   "source": [
    "data['QC Name'].unique()"
   ]
  },
  {
   "cell_type": "code",
   "execution_count": 5,
   "id": "5a2a54f0",
   "metadata": {},
   "outputs": [],
   "source": [
    "data.drop('Unnamed: 0',axis=1, inplace=True)\n",
    "data.drop('Site',axis=1, inplace=True)\n",
    "data.drop('Parameter',axis=1, inplace=True)\n",
    "data.drop('Date (LT)',axis=1, inplace=True)\n",
    "data.drop('Conc. Unit',axis=1, inplace=True)\n",
    "data.drop('Duration',axis=1, inplace=True)\n"
   ]
  },
  {
   "cell_type": "code",
   "execution_count": 6,
   "id": "7e7cce9f",
   "metadata": {},
   "outputs": [],
   "source": [
    "# data.drop('AQI',axis=1, inplace=True)"
   ]
  },
  {
   "cell_type": "code",
   "execution_count": 7,
   "id": "ef0cc26c",
   "metadata": {},
   "outputs": [],
   "source": [
    "data.drop('QC Name',axis=1, inplace=True)"
   ]
  },
  {
   "cell_type": "code",
   "execution_count": 8,
   "id": "2c6f1bd9",
   "metadata": {},
   "outputs": [
    {
     "data": {
      "text/html": [
       "<div>\n",
       "<style scoped>\n",
       "    .dataframe tbody tr th:only-of-type {\n",
       "        vertical-align: middle;\n",
       "    }\n",
       "\n",
       "    .dataframe tbody tr th {\n",
       "        vertical-align: top;\n",
       "    }\n",
       "\n",
       "    .dataframe thead th {\n",
       "        text-align: right;\n",
       "    }\n",
       "</style>\n",
       "<table border=\"1\" class=\"dataframe\">\n",
       "  <thead>\n",
       "    <tr style=\"text-align: right;\">\n",
       "      <th></th>\n",
       "      <th>Year</th>\n",
       "      <th>Month</th>\n",
       "      <th>Day</th>\n",
       "      <th>Hour</th>\n",
       "      <th>NowCast Conc.</th>\n",
       "      <th>AQI</th>\n",
       "      <th>AQI Category</th>\n",
       "      <th>Raw Conc.</th>\n",
       "    </tr>\n",
       "  </thead>\n",
       "  <tbody>\n",
       "    <tr>\n",
       "      <th>33515</th>\n",
       "      <td>2022</td>\n",
       "      <td>10</td>\n",
       "      <td>10</td>\n",
       "      <td>20</td>\n",
       "      <td>33.7</td>\n",
       "      <td>96</td>\n",
       "      <td>Moderate</td>\n",
       "      <td>46.0</td>\n",
       "    </tr>\n",
       "    <tr>\n",
       "      <th>33516</th>\n",
       "      <td>2022</td>\n",
       "      <td>10</td>\n",
       "      <td>10</td>\n",
       "      <td>21</td>\n",
       "      <td>36.8</td>\n",
       "      <td>104</td>\n",
       "      <td>Unhealthy for Sensitive Groups</td>\n",
       "      <td>40.0</td>\n",
       "    </tr>\n",
       "    <tr>\n",
       "      <th>33517</th>\n",
       "      <td>2022</td>\n",
       "      <td>10</td>\n",
       "      <td>10</td>\n",
       "      <td>22</td>\n",
       "      <td>35.4</td>\n",
       "      <td>100</td>\n",
       "      <td>Moderate</td>\n",
       "      <td>34.0</td>\n",
       "    </tr>\n",
       "    <tr>\n",
       "      <th>33518</th>\n",
       "      <td>2022</td>\n",
       "      <td>10</td>\n",
       "      <td>10</td>\n",
       "      <td>23</td>\n",
       "      <td>33.2</td>\n",
       "      <td>95</td>\n",
       "      <td>Moderate</td>\n",
       "      <td>31.0</td>\n",
       "    </tr>\n",
       "    <tr>\n",
       "      <th>33519</th>\n",
       "      <td>2022</td>\n",
       "      <td>10</td>\n",
       "      <td>11</td>\n",
       "      <td>0</td>\n",
       "      <td>33.1</td>\n",
       "      <td>95</td>\n",
       "      <td>Moderate</td>\n",
       "      <td>33.0</td>\n",
       "    </tr>\n",
       "  </tbody>\n",
       "</table>\n",
       "</div>"
      ],
      "text/plain": [
       "       Year  Month  Day  Hour  NowCast Conc.  AQI  \\\n",
       "33515  2022     10   10    20           33.7   96   \n",
       "33516  2022     10   10    21           36.8  104   \n",
       "33517  2022     10   10    22           35.4  100   \n",
       "33518  2022     10   10    23           33.2   95   \n",
       "33519  2022     10   11     0           33.1   95   \n",
       "\n",
       "                         AQI Category  Raw Conc.  \n",
       "33515                        Moderate       46.0  \n",
       "33516  Unhealthy for Sensitive Groups       40.0  \n",
       "33517                        Moderate       34.0  \n",
       "33518                        Moderate       31.0  \n",
       "33519                        Moderate       33.0  "
      ]
     },
     "execution_count": 8,
     "metadata": {},
     "output_type": "execute_result"
    }
   ],
   "source": [
    "data.tail()"
   ]
  },
  {
   "cell_type": "code",
   "execution_count": 9,
   "id": "61971ead",
   "metadata": {},
   "outputs": [
    {
     "data": {
      "text/plain": [
       "array(['Moderate', 'Unhealthy for Sensitive Groups', 'Unhealthy',\n",
       "       'Very Unhealthy', 'Hazardous', 'Good'], dtype=object)"
      ]
     },
     "execution_count": 9,
     "metadata": {},
     "output_type": "execute_result"
    }
   ],
   "source": [
    "data['AQI Category'].unique()"
   ]
  },
  {
   "cell_type": "code",
   "execution_count": 42,
   "id": "1cbdddda",
   "metadata": {},
   "outputs": [],
   "source": [
    "# Hot encoding\n",
    "# importing sklearn one hot encoding\n",
    "from sklearn.preprocessing import OneHotEncoder\n",
    "# initializing one hot encoding\n",
    "encoding = OneHotEncoder()\n"
   ]
  },
  {
   "cell_type": "code",
   "execution_count": 43,
   "id": "2c9ac4d5",
   "metadata": {},
   "outputs": [],
   "source": [
    "# # applying one hot encoding in python\n",
    "# transformed_data = encoding.fit_transform(data[['QC Name']])"
   ]
  },
  {
   "cell_type": "code",
   "execution_count": 44,
   "id": "292e402f",
   "metadata": {},
   "outputs": [],
   "source": [
    "# Getting one hot encoded categories\n",
    "#print(encoding.categories_)"
   ]
  },
  {
   "cell_type": "code",
   "execution_count": 45,
   "id": "6eb64326",
   "metadata": {},
   "outputs": [
    {
     "data": {
      "text/html": [
       "<div>\n",
       "<style scoped>\n",
       "    .dataframe tbody tr th:only-of-type {\n",
       "        vertical-align: middle;\n",
       "    }\n",
       "\n",
       "    .dataframe tbody tr th {\n",
       "        vertical-align: top;\n",
       "    }\n",
       "\n",
       "    .dataframe thead th {\n",
       "        text-align: right;\n",
       "    }\n",
       "</style>\n",
       "<table border=\"1\" class=\"dataframe\">\n",
       "  <thead>\n",
       "    <tr style=\"text-align: right;\">\n",
       "      <th></th>\n",
       "      <th>Year</th>\n",
       "      <th>Month</th>\n",
       "      <th>Day</th>\n",
       "      <th>Hour</th>\n",
       "      <th>NowCast Conc.</th>\n",
       "      <th>AQI</th>\n",
       "      <th>AQI Category</th>\n",
       "      <th>Raw Conc.</th>\n",
       "    </tr>\n",
       "  </thead>\n",
       "  <tbody>\n",
       "    <tr>\n",
       "      <th>1</th>\n",
       "      <td>2019</td>\n",
       "      <td>2</td>\n",
       "      <td>6</td>\n",
       "      <td>7</td>\n",
       "      <td>17.0</td>\n",
       "      <td>61</td>\n",
       "      <td>Moderate</td>\n",
       "      <td>20.0</td>\n",
       "    </tr>\n",
       "    <tr>\n",
       "      <th>2</th>\n",
       "      <td>2019</td>\n",
       "      <td>2</td>\n",
       "      <td>6</td>\n",
       "      <td>8</td>\n",
       "      <td>19.1</td>\n",
       "      <td>66</td>\n",
       "      <td>Moderate</td>\n",
       "      <td>21.0</td>\n",
       "    </tr>\n",
       "    <tr>\n",
       "      <th>3</th>\n",
       "      <td>2019</td>\n",
       "      <td>2</td>\n",
       "      <td>6</td>\n",
       "      <td>9</td>\n",
       "      <td>22.4</td>\n",
       "      <td>73</td>\n",
       "      <td>Moderate</td>\n",
       "      <td>25.0</td>\n",
       "    </tr>\n",
       "    <tr>\n",
       "      <th>4</th>\n",
       "      <td>2019</td>\n",
       "      <td>2</td>\n",
       "      <td>6</td>\n",
       "      <td>10</td>\n",
       "      <td>30.9</td>\n",
       "      <td>91</td>\n",
       "      <td>Moderate</td>\n",
       "      <td>39.0</td>\n",
       "    </tr>\n",
       "    <tr>\n",
       "      <th>5</th>\n",
       "      <td>2019</td>\n",
       "      <td>2</td>\n",
       "      <td>6</td>\n",
       "      <td>11</td>\n",
       "      <td>35.0</td>\n",
       "      <td>99</td>\n",
       "      <td>Moderate</td>\n",
       "      <td>39.0</td>\n",
       "    </tr>\n",
       "  </tbody>\n",
       "</table>\n",
       "</div>"
      ],
      "text/plain": [
       "   Year  Month  Day  Hour  NowCast Conc.  AQI AQI Category  Raw Conc.\n",
       "1  2019      2    6     7           17.0   61     Moderate       20.0\n",
       "2  2019      2    6     8           19.1   66     Moderate       21.0\n",
       "3  2019      2    6     9           22.4   73     Moderate       25.0\n",
       "4  2019      2    6    10           30.9   91     Moderate       39.0\n",
       "5  2019      2    6    11           35.0   99     Moderate       39.0"
      ]
     },
     "execution_count": 45,
     "metadata": {},
     "output_type": "execute_result"
    }
   ],
   "source": [
    "# # adding the encoded values\n",
    "# data[encoding.categories_[0]] = transformed_data.toarray()\n",
    "\n",
    "# # deleting the uncoded one\n",
    "# data.drop('QC Name', axis=1, inplace=True)\n",
    "\n",
    "# data heading\n",
    "data.head()"
   ]
  },
  {
   "cell_type": "code",
   "execution_count": null,
   "id": "c4bf60c2",
   "metadata": {},
   "outputs": [],
   "source": []
  },
  {
   "cell_type": "code",
   "execution_count": 47,
   "id": "477bbcc6",
   "metadata": {},
   "outputs": [],
   "source": [
    "# # Import sklearn labelencoder\n",
    "# from sklearn import preprocessing\n",
    "  \n",
    "# # initializing sklearn labelencoder\n",
    "# label_encoder = preprocessing.LabelEncoder()\n",
    "  \n",
    "# # encoding marrige column\n",
    "# data['AQI Category']= label_encoder.fit_transform(data['AQI Category'])\n"
   ]
  },
  {
   "cell_type": "code",
   "execution_count": 48,
   "id": "0fc074a8",
   "metadata": {},
   "outputs": [],
   "source": [
    "# # importing numpy\n",
    "# import numpy as np\n",
    "# import matplotlib.pyplot as plt\n",
    "\n",
    "# fig = plt.figure(figsize = ( 15, 6))\n",
    "\n",
    "# # Creating explode data\n",
    "# explode = (0.1, 0.0, 0.2, 0.3, 0.0, 0.0)\n",
    "\n",
    "# # creating variables\n",
    "# one = 0\n",
    "# two = 0\n",
    "# three = 0\n",
    "# four = 0\n",
    "# five = 0\n",
    "# six = 0\n",
    "# # for loop to itreate through the output class\n",
    "# for i in data['AQI Category']:\n",
    "#     if i ==\"Moderate\":\n",
    "#         one+=1\n",
    "#     elif i =='Unhealthy for Sensitive Groups':\n",
    "#         two+=1\n",
    "#     elif i == 'Unhealthy':\n",
    "#         three+=1\n",
    "#     elif i == 'Very Unhealthy':\n",
    "#         four+=1\n",
    "#     elif i == 'Hazardous':\n",
    "#         five+=1\n",
    "#     elif i == 'Good':\n",
    "#         six+=1\n",
    "# # creating numpy arry\n",
    "# labels = ['Moredate', 'UFSG', 'Unhealthy', 'very unhealthy', 'hazardous', 'good']\n",
    "\n",
    "# values = np.array([one, two, three, four, five, six])\n",
    "# plt.pie(values, labels = labels, autopct='%1.2f%%', explode = explode,)\n",
    "# plt.legend()\n",
    "# plt.show()"
   ]
  },
  {
   "cell_type": "code",
   "execution_count": 49,
   "id": "90d8e35b",
   "metadata": {
    "scrolled": true
   },
   "outputs": [],
   "source": [
    "one = 0\n",
    "two = 0\n",
    "three = 0\n",
    "four = 0\n",
    "five = 0\n",
    "six = 0\n",
    "# for loop to itreate through the output class\n",
    "for i in data['AQI Category']:\n",
    "    if i ==0:\n",
    "        one+=1\n",
    "    elif i ==1:\n",
    "        two+=1\n",
    "    elif i == 2:\n",
    "        three+=1\n",
    "    elif i == 3:\n",
    "        four+=1\n",
    "    elif i == 4:\n",
    "        five+=1\n",
    "    elif i == 5:\n",
    "        six+=1"
   ]
  },
  {
   "cell_type": "code",
   "execution_count": 50,
   "id": "f7dcecb1",
   "metadata": {},
   "outputs": [
    {
     "name": "stdout",
     "output_type": "stream",
     "text": [
      "10400\n",
      "387\n",
      "14846\n",
      "3380\n",
      "3482\n",
      "823\n"
     ]
    }
   ],
   "source": [
    "print(one)\n",
    "print(two)\n",
    "print(three)\n",
    "print(four)\n",
    "print(five)\n",
    "print(six)"
   ]
  },
  {
   "cell_type": "code",
   "execution_count": 14,
   "id": "6f18e790",
   "metadata": {},
   "outputs": [],
   "source": [
    "# splitting the dataset into input and output\n",
    "Input = data.drop('AQI Category', axis=1)\n",
    "\n",
    "Output =data['AQI Category']"
   ]
  },
  {
   "cell_type": "code",
   "execution_count": 15,
   "id": "bd514b87",
   "metadata": {},
   "outputs": [],
   "source": [
    "from sklearn.model_selection import train_test_split\n",
    "\n",
    "\n",
    "# splitting into testing and training parts\n",
    "X_train, X_test, y_train, y_test = train_test_split(Input, Output, test_size=0.30, random_state=40)"
   ]
  },
  {
   "cell_type": "code",
   "execution_count": 16,
   "id": "3616ab04",
   "metadata": {},
   "outputs": [
    {
     "data": {
      "text/plain": [
       "(23322, 7)"
      ]
     },
     "execution_count": 16,
     "metadata": {},
     "output_type": "execute_result"
    }
   ],
   "source": [
    "X_train.shape"
   ]
  },
  {
   "cell_type": "code",
   "execution_count": null,
   "id": "10f76bdb",
   "metadata": {},
   "outputs": [],
   "source": []
  },
  {
   "cell_type": "code",
   "execution_count": 54,
   "id": "32eb9694",
   "metadata": {},
   "outputs": [
    {
     "name": "stdout",
     "output_type": "stream",
     "text": [
      "Learning rate set to 0.092914\n",
      "0:\tlearn: 1.3801629\ttotal: 69.7ms\tremaining: 1m 9s\n",
      "1:\tlearn: 1.1266930\ttotal: 80.3ms\tremaining: 40.1s\n",
      "2:\tlearn: 0.9468288\ttotal: 90.5ms\tremaining: 30.1s\n",
      "3:\tlearn: 0.8122669\ttotal: 102ms\tremaining: 25.4s\n",
      "4:\tlearn: 0.7059549\ttotal: 113ms\tremaining: 22.5s\n",
      "5:\tlearn: 0.6195134\ttotal: 125ms\tremaining: 20.6s\n",
      "6:\tlearn: 0.5454241\ttotal: 136ms\tremaining: 19.3s\n",
      "7:\tlearn: 0.4846037\ttotal: 147ms\tremaining: 18.2s\n",
      "8:\tlearn: 0.4312457\ttotal: 157ms\tremaining: 17.3s\n",
      "9:\tlearn: 0.3852354\ttotal: 169ms\tremaining: 16.7s\n",
      "10:\tlearn: 0.3447341\ttotal: 180ms\tremaining: 16.2s\n",
      "11:\tlearn: 0.3089415\ttotal: 192ms\tremaining: 15.8s\n",
      "12:\tlearn: 0.2787657\ttotal: 205ms\tremaining: 15.6s\n",
      "13:\tlearn: 0.2511359\ttotal: 219ms\tremaining: 15.4s\n",
      "14:\tlearn: 0.2269223\ttotal: 231ms\tremaining: 15.2s\n",
      "15:\tlearn: 0.2054311\ttotal: 245ms\tremaining: 15s\n",
      "16:\tlearn: 0.1855298\ttotal: 255ms\tremaining: 14.8s\n",
      "17:\tlearn: 0.1686904\ttotal: 267ms\tremaining: 14.6s\n",
      "18:\tlearn: 0.1529122\ttotal: 277ms\tremaining: 14.3s\n",
      "19:\tlearn: 0.1390123\ttotal: 289ms\tremaining: 14.2s\n",
      "20:\tlearn: 0.1260640\ttotal: 300ms\tremaining: 14s\n",
      "21:\tlearn: 0.1145491\ttotal: 312ms\tremaining: 13.9s\n",
      "22:\tlearn: 0.1039224\ttotal: 324ms\tremaining: 13.7s\n",
      "23:\tlearn: 0.0946077\ttotal: 335ms\tremaining: 13.6s\n",
      "24:\tlearn: 0.0858808\ttotal: 347ms\tremaining: 13.5s\n",
      "25:\tlearn: 0.0784130\ttotal: 358ms\tremaining: 13.4s\n",
      "26:\tlearn: 0.0713888\ttotal: 370ms\tremaining: 13.3s\n",
      "27:\tlearn: 0.0651305\ttotal: 383ms\tremaining: 13.3s\n",
      "28:\tlearn: 0.0592674\ttotal: 396ms\tremaining: 13.3s\n",
      "29:\tlearn: 0.0539466\ttotal: 408ms\tremaining: 13.2s\n",
      "30:\tlearn: 0.0491570\ttotal: 423ms\tremaining: 13.2s\n",
      "31:\tlearn: 0.0447871\ttotal: 437ms\tremaining: 13.2s\n",
      "32:\tlearn: 0.0409444\ttotal: 450ms\tremaining: 13.2s\n",
      "33:\tlearn: 0.0374040\ttotal: 463ms\tremaining: 13.1s\n",
      "34:\tlearn: 0.0343155\ttotal: 475ms\tremaining: 13.1s\n",
      "35:\tlearn: 0.0314046\ttotal: 488ms\tremaining: 13.1s\n",
      "36:\tlearn: 0.0286692\ttotal: 499ms\tremaining: 13s\n",
      "37:\tlearn: 0.0261859\ttotal: 511ms\tremaining: 12.9s\n",
      "38:\tlearn: 0.0239362\ttotal: 523ms\tremaining: 12.9s\n",
      "39:\tlearn: 0.0219504\ttotal: 535ms\tremaining: 12.8s\n",
      "40:\tlearn: 0.0201651\ttotal: 547ms\tremaining: 12.8s\n",
      "41:\tlearn: 0.0184917\ttotal: 559ms\tremaining: 12.7s\n",
      "42:\tlearn: 0.0170991\ttotal: 571ms\tremaining: 12.7s\n",
      "43:\tlearn: 0.0157385\ttotal: 583ms\tremaining: 12.7s\n",
      "44:\tlearn: 0.0144623\ttotal: 595ms\tremaining: 12.6s\n",
      "45:\tlearn: 0.0132842\ttotal: 608ms\tremaining: 12.6s\n",
      "46:\tlearn: 0.0122496\ttotal: 622ms\tremaining: 12.6s\n",
      "47:\tlearn: 0.0113259\ttotal: 636ms\tremaining: 12.6s\n",
      "48:\tlearn: 0.0105008\ttotal: 648ms\tremaining: 12.6s\n",
      "49:\tlearn: 0.0096591\ttotal: 660ms\tremaining: 12.5s\n",
      "50:\tlearn: 0.0089578\ttotal: 671ms\tremaining: 12.5s\n",
      "51:\tlearn: 0.0082812\ttotal: 685ms\tremaining: 12.5s\n",
      "52:\tlearn: 0.0076430\ttotal: 699ms\tremaining: 12.5s\n",
      "53:\tlearn: 0.0071076\ttotal: 710ms\tremaining: 12.4s\n",
      "54:\tlearn: 0.0066149\ttotal: 721ms\tremaining: 12.4s\n",
      "55:\tlearn: 0.0061639\ttotal: 733ms\tremaining: 12.3s\n",
      "56:\tlearn: 0.0057556\ttotal: 744ms\tremaining: 12.3s\n",
      "57:\tlearn: 0.0053822\ttotal: 758ms\tremaining: 12.3s\n",
      "58:\tlearn: 0.0050513\ttotal: 769ms\tremaining: 12.3s\n",
      "59:\tlearn: 0.0048018\ttotal: 780ms\tremaining: 12.2s\n",
      "60:\tlearn: 0.0046182\ttotal: 791ms\tremaining: 12.2s\n",
      "61:\tlearn: 0.0044720\ttotal: 802ms\tremaining: 12.1s\n",
      "62:\tlearn: 0.0043565\ttotal: 813ms\tremaining: 12.1s\n",
      "63:\tlearn: 0.0041862\ttotal: 827ms\tremaining: 12.1s\n",
      "64:\tlearn: 0.0041176\ttotal: 838ms\tremaining: 12.1s\n",
      "65:\tlearn: 0.0040220\ttotal: 849ms\tremaining: 12s\n",
      "66:\tlearn: 0.0038241\ttotal: 860ms\tremaining: 12s\n",
      "67:\tlearn: 0.0037357\ttotal: 871ms\tremaining: 11.9s\n",
      "68:\tlearn: 0.0036852\ttotal: 883ms\tremaining: 11.9s\n",
      "69:\tlearn: 0.0036159\ttotal: 896ms\tremaining: 11.9s\n",
      "70:\tlearn: 0.0034967\ttotal: 908ms\tremaining: 11.9s\n",
      "71:\tlearn: 0.0032924\ttotal: 920ms\tremaining: 11.9s\n",
      "72:\tlearn: 0.0032295\ttotal: 932ms\tremaining: 11.8s\n",
      "73:\tlearn: 0.0030834\ttotal: 944ms\tremaining: 11.8s\n",
      "74:\tlearn: 0.0030349\ttotal: 955ms\tremaining: 11.8s\n",
      "75:\tlearn: 0.0029885\ttotal: 967ms\tremaining: 11.8s\n",
      "76:\tlearn: 0.0028898\ttotal: 980ms\tremaining: 11.7s\n",
      "77:\tlearn: 0.0027624\ttotal: 991ms\tremaining: 11.7s\n",
      "78:\tlearn: 0.0027117\ttotal: 1s\tremaining: 11.7s\n",
      "79:\tlearn: 0.0026804\ttotal: 1.02s\tremaining: 11.7s\n",
      "80:\tlearn: 0.0026545\ttotal: 1.03s\tremaining: 11.7s\n",
      "81:\tlearn: 0.0025933\ttotal: 1.04s\tremaining: 11.6s\n",
      "82:\tlearn: 0.0025506\ttotal: 1.05s\tremaining: 11.6s\n",
      "83:\tlearn: 0.0025160\ttotal: 1.06s\tremaining: 11.6s\n",
      "84:\tlearn: 0.0024848\ttotal: 1.07s\tremaining: 11.5s\n",
      "85:\tlearn: 0.0024710\ttotal: 1.08s\tremaining: 11.5s\n",
      "86:\tlearn: 0.0024048\ttotal: 1.09s\tremaining: 11.5s\n",
      "87:\tlearn: 0.0023148\ttotal: 1.1s\tremaining: 11.5s\n",
      "88:\tlearn: 0.0022985\ttotal: 1.12s\tremaining: 11.4s\n",
      "89:\tlearn: 0.0022792\ttotal: 1.13s\tremaining: 11.4s\n",
      "90:\tlearn: 0.0022594\ttotal: 1.14s\tremaining: 11.4s\n",
      "91:\tlearn: 0.0021744\ttotal: 1.15s\tremaining: 11.4s\n",
      "92:\tlearn: 0.0020698\ttotal: 1.17s\tremaining: 11.4s\n",
      "93:\tlearn: 0.0020484\ttotal: 1.18s\tremaining: 11.4s\n",
      "94:\tlearn: 0.0019513\ttotal: 1.19s\tremaining: 11.4s\n",
      "95:\tlearn: 0.0018907\ttotal: 1.21s\tremaining: 11.4s\n",
      "96:\tlearn: 0.0018764\ttotal: 1.22s\tremaining: 11.4s\n",
      "97:\tlearn: 0.0018654\ttotal: 1.23s\tremaining: 11.4s\n",
      "98:\tlearn: 0.0018572\ttotal: 1.25s\tremaining: 11.3s\n",
      "99:\tlearn: 0.0018475\ttotal: 1.26s\tremaining: 11.3s\n",
      "100:\tlearn: 0.0018076\ttotal: 1.27s\tremaining: 11.3s\n",
      "101:\tlearn: 0.0017986\ttotal: 1.28s\tremaining: 11.3s\n",
      "102:\tlearn: 0.0017915\ttotal: 1.29s\tremaining: 11.3s\n",
      "103:\tlearn: 0.0017731\ttotal: 1.3s\tremaining: 11.3s\n",
      "104:\tlearn: 0.0017662\ttotal: 1.31s\tremaining: 11.2s\n",
      "105:\tlearn: 0.0017546\ttotal: 1.33s\tremaining: 11.2s\n",
      "106:\tlearn: 0.0017418\ttotal: 1.34s\tremaining: 11.2s\n",
      "107:\tlearn: 0.0017267\ttotal: 1.35s\tremaining: 11.2s\n",
      "108:\tlearn: 0.0017218\ttotal: 1.36s\tremaining: 11.1s\n",
      "109:\tlearn: 0.0016862\ttotal: 1.37s\tremaining: 11.1s\n",
      "110:\tlearn: 0.0016806\ttotal: 1.38s\tremaining: 11.1s\n",
      "111:\tlearn: 0.0016469\ttotal: 1.4s\tremaining: 11.1s\n",
      "112:\tlearn: 0.0016299\ttotal: 1.41s\tremaining: 11.1s\n",
      "113:\tlearn: 0.0016266\ttotal: 1.43s\tremaining: 11.1s\n",
      "114:\tlearn: 0.0016204\ttotal: 1.44s\tremaining: 11.1s\n",
      "115:\tlearn: 0.0016150\ttotal: 1.45s\tremaining: 11.1s\n",
      "116:\tlearn: 0.0016113\ttotal: 1.46s\tremaining: 11.1s\n",
      "117:\tlearn: 0.0015993\ttotal: 1.48s\tremaining: 11s\n",
      "118:\tlearn: 0.0015921\ttotal: 1.49s\tremaining: 11s\n",
      "119:\tlearn: 0.0015884\ttotal: 1.5s\tremaining: 11s\n",
      "120:\tlearn: 0.0015843\ttotal: 1.51s\tremaining: 11s\n",
      "121:\tlearn: 0.0015615\ttotal: 1.52s\tremaining: 10.9s\n",
      "122:\tlearn: 0.0015526\ttotal: 1.53s\tremaining: 10.9s\n",
      "123:\tlearn: 0.0015408\ttotal: 1.54s\tremaining: 10.9s\n",
      "124:\tlearn: 0.0015344\ttotal: 1.55s\tremaining: 10.9s\n",
      "125:\tlearn: 0.0015304\ttotal: 1.57s\tremaining: 10.9s\n",
      "126:\tlearn: 0.0014876\ttotal: 1.58s\tremaining: 10.8s\n",
      "127:\tlearn: 0.0014480\ttotal: 1.59s\tremaining: 10.8s\n",
      "128:\tlearn: 0.0014441\ttotal: 1.6s\tremaining: 10.8s\n",
      "129:\tlearn: 0.0014075\ttotal: 1.61s\tremaining: 10.8s\n",
      "130:\tlearn: 0.0013486\ttotal: 1.62s\tremaining: 10.8s\n",
      "131:\tlearn: 0.0013407\ttotal: 1.64s\tremaining: 10.8s\n",
      "132:\tlearn: 0.0013381\ttotal: 1.65s\tremaining: 10.7s\n",
      "133:\tlearn: 0.0013206\ttotal: 1.66s\tremaining: 10.7s\n",
      "134:\tlearn: 0.0013111\ttotal: 1.67s\tremaining: 10.7s\n",
      "135:\tlearn: 0.0013060\ttotal: 1.68s\tremaining: 10.7s\n",
      "136:\tlearn: 0.0012965\ttotal: 1.69s\tremaining: 10.7s\n",
      "137:\tlearn: 0.0012941\ttotal: 1.7s\tremaining: 10.6s\n",
      "138:\tlearn: 0.0012911\ttotal: 1.71s\tremaining: 10.6s\n",
      "139:\tlearn: 0.0012874\ttotal: 1.73s\tremaining: 10.6s\n",
      "140:\tlearn: 0.0012838\ttotal: 1.74s\tremaining: 10.6s\n",
      "141:\tlearn: 0.0012745\ttotal: 1.75s\tremaining: 10.6s\n",
      "142:\tlearn: 0.0012698\ttotal: 1.76s\tremaining: 10.5s\n",
      "143:\tlearn: 0.0012623\ttotal: 1.77s\tremaining: 10.5s\n",
      "144:\tlearn: 0.0012599\ttotal: 1.78s\tremaining: 10.5s\n",
      "145:\tlearn: 0.0012579\ttotal: 1.79s\tremaining: 10.5s\n",
      "146:\tlearn: 0.0012555\ttotal: 1.8s\tremaining: 10.5s\n",
      "147:\tlearn: 0.0012539\ttotal: 1.81s\tremaining: 10.4s\n",
      "148:\tlearn: 0.0012504\ttotal: 1.83s\tremaining: 10.4s\n",
      "149:\tlearn: 0.0012458\ttotal: 1.84s\tremaining: 10.4s\n",
      "150:\tlearn: 0.0012408\ttotal: 1.85s\tremaining: 10.4s\n",
      "151:\tlearn: 0.0012393\ttotal: 1.87s\tremaining: 10.4s\n",
      "152:\tlearn: 0.0012338\ttotal: 1.88s\tremaining: 10.4s\n",
      "153:\tlearn: 0.0012323\ttotal: 1.89s\tremaining: 10.4s\n",
      "154:\tlearn: 0.0012306\ttotal: 1.9s\tremaining: 10.4s\n",
      "155:\tlearn: 0.0012284\ttotal: 1.91s\tremaining: 10.3s\n",
      "156:\tlearn: 0.0011765\ttotal: 1.92s\tremaining: 10.3s\n",
      "157:\tlearn: 0.0011691\ttotal: 1.93s\tremaining: 10.3s\n",
      "158:\tlearn: 0.0011643\ttotal: 1.94s\tremaining: 10.3s\n",
      "159:\tlearn: 0.0011167\ttotal: 1.96s\tremaining: 10.3s\n",
      "160:\tlearn: 0.0011105\ttotal: 1.97s\tremaining: 10.3s\n",
      "161:\tlearn: 0.0011080\ttotal: 1.98s\tremaining: 10.2s\n",
      "162:\tlearn: 0.0011033\ttotal: 1.99s\tremaining: 10.2s\n",
      "163:\tlearn: 0.0011020\ttotal: 2s\tremaining: 10.2s\n"
     ]
    },
    {
     "name": "stdout",
     "output_type": "stream",
     "text": [
      "164:\tlearn: 0.0011007\ttotal: 2.02s\tremaining: 10.2s\n",
      "165:\tlearn: 0.0010989\ttotal: 2.03s\tremaining: 10.2s\n",
      "166:\tlearn: 0.0010745\ttotal: 2.04s\tremaining: 10.2s\n",
      "167:\tlearn: 0.0010701\ttotal: 2.06s\tremaining: 10.2s\n",
      "168:\tlearn: 0.0010687\ttotal: 2.07s\tremaining: 10.2s\n",
      "169:\tlearn: 0.0010649\ttotal: 2.08s\tremaining: 10.2s\n",
      "170:\tlearn: 0.0010628\ttotal: 2.09s\tremaining: 10.1s\n",
      "171:\tlearn: 0.0010618\ttotal: 2.1s\tremaining: 10.1s\n",
      "172:\tlearn: 0.0010200\ttotal: 2.11s\tremaining: 10.1s\n",
      "173:\tlearn: 0.0010189\ttotal: 2.12s\tremaining: 10.1s\n",
      "174:\tlearn: 0.0009980\ttotal: 2.14s\tremaining: 10.1s\n",
      "175:\tlearn: 0.0009965\ttotal: 2.15s\tremaining: 10.1s\n",
      "176:\tlearn: 0.0009914\ttotal: 2.16s\tremaining: 10s\n",
      "177:\tlearn: 0.0009879\ttotal: 2.17s\tremaining: 10s\n",
      "178:\tlearn: 0.0009847\ttotal: 2.18s\tremaining: 10s\n",
      "179:\tlearn: 0.0009719\ttotal: 2.19s\tremaining: 9.99s\n",
      "180:\tlearn: 0.0009705\ttotal: 2.2s\tremaining: 9.97s\n",
      "181:\tlearn: 0.0009662\ttotal: 2.21s\tremaining: 9.95s\n",
      "182:\tlearn: 0.0009630\ttotal: 2.23s\tremaining: 9.94s\n",
      "183:\tlearn: 0.0009620\ttotal: 2.24s\tremaining: 9.94s\n",
      "184:\tlearn: 0.0009255\ttotal: 2.25s\tremaining: 9.92s\n",
      "185:\tlearn: 0.0009222\ttotal: 2.26s\tremaining: 9.91s\n",
      "186:\tlearn: 0.0009193\ttotal: 2.27s\tremaining: 9.89s\n",
      "187:\tlearn: 0.0009185\ttotal: 2.29s\tremaining: 9.88s\n",
      "188:\tlearn: 0.0009162\ttotal: 2.3s\tremaining: 9.86s\n",
      "189:\tlearn: 0.0009145\ttotal: 2.31s\tremaining: 9.85s\n",
      "190:\tlearn: 0.0008963\ttotal: 2.32s\tremaining: 9.82s\n",
      "191:\tlearn: 0.0008930\ttotal: 2.33s\tremaining: 9.81s\n",
      "192:\tlearn: 0.0008904\ttotal: 2.34s\tremaining: 9.8s\n",
      "193:\tlearn: 0.0008882\ttotal: 2.35s\tremaining: 9.79s\n",
      "194:\tlearn: 0.0008860\ttotal: 2.37s\tremaining: 9.77s\n",
      "195:\tlearn: 0.0008830\ttotal: 2.38s\tremaining: 9.75s\n",
      "196:\tlearn: 0.0008822\ttotal: 2.39s\tremaining: 9.73s\n",
      "197:\tlearn: 0.0008717\ttotal: 2.4s\tremaining: 9.73s\n",
      "198:\tlearn: 0.0008516\ttotal: 2.42s\tremaining: 9.72s\n",
      "199:\tlearn: 0.0008478\ttotal: 2.43s\tremaining: 9.72s\n",
      "200:\tlearn: 0.0008455\ttotal: 2.44s\tremaining: 9.71s\n",
      "201:\tlearn: 0.0008430\ttotal: 2.45s\tremaining: 9.7s\n",
      "202:\tlearn: 0.0008191\ttotal: 2.47s\tremaining: 9.68s\n",
      "203:\tlearn: 0.0008166\ttotal: 2.48s\tremaining: 9.67s\n",
      "204:\tlearn: 0.0008157\ttotal: 2.49s\tremaining: 9.66s\n",
      "205:\tlearn: 0.0008125\ttotal: 2.5s\tremaining: 9.64s\n",
      "206:\tlearn: 0.0008106\ttotal: 2.51s\tremaining: 9.62s\n",
      "207:\tlearn: 0.0008077\ttotal: 2.52s\tremaining: 9.6s\n",
      "208:\tlearn: 0.0007934\ttotal: 2.53s\tremaining: 9.59s\n",
      "209:\tlearn: 0.0007915\ttotal: 2.54s\tremaining: 9.57s\n",
      "210:\tlearn: 0.0007893\ttotal: 2.55s\tremaining: 9.55s\n",
      "211:\tlearn: 0.0007679\ttotal: 2.56s\tremaining: 9.54s\n",
      "212:\tlearn: 0.0007674\ttotal: 2.58s\tremaining: 9.52s\n",
      "213:\tlearn: 0.0007668\ttotal: 2.59s\tremaining: 9.5s\n",
      "214:\tlearn: 0.0007639\ttotal: 2.6s\tremaining: 9.48s\n",
      "215:\tlearn: 0.0007512\ttotal: 2.61s\tremaining: 9.47s\n",
      "216:\tlearn: 0.0007485\ttotal: 2.62s\tremaining: 9.46s\n",
      "217:\tlearn: 0.0007472\ttotal: 2.63s\tremaining: 9.44s\n",
      "218:\tlearn: 0.0007450\ttotal: 2.64s\tremaining: 9.43s\n",
      "219:\tlearn: 0.0007432\ttotal: 2.65s\tremaining: 9.41s\n",
      "220:\tlearn: 0.0007425\ttotal: 2.67s\tremaining: 9.4s\n",
      "221:\tlearn: 0.0007419\ttotal: 2.68s\tremaining: 9.39s\n",
      "222:\tlearn: 0.0007195\ttotal: 2.69s\tremaining: 9.37s\n",
      "223:\tlearn: 0.0007189\ttotal: 2.7s\tremaining: 9.36s\n",
      "224:\tlearn: 0.0007076\ttotal: 2.71s\tremaining: 9.35s\n",
      "225:\tlearn: 0.0007069\ttotal: 2.72s\tremaining: 9.33s\n",
      "226:\tlearn: 0.0007038\ttotal: 2.73s\tremaining: 9.31s\n",
      "227:\tlearn: 0.0007022\ttotal: 2.75s\tremaining: 9.3s\n",
      "228:\tlearn: 0.0007017\ttotal: 2.76s\tremaining: 9.28s\n",
      "229:\tlearn: 0.0007001\ttotal: 2.77s\tremaining: 9.27s\n",
      "230:\tlearn: 0.0006978\ttotal: 2.78s\tremaining: 9.26s\n",
      "231:\tlearn: 0.0006962\ttotal: 2.79s\tremaining: 9.24s\n",
      "232:\tlearn: 0.0006942\ttotal: 2.8s\tremaining: 9.23s\n",
      "233:\tlearn: 0.0006925\ttotal: 2.81s\tremaining: 9.21s\n",
      "234:\tlearn: 0.0006904\ttotal: 2.83s\tremaining: 9.2s\n",
      "235:\tlearn: 0.0006882\ttotal: 2.84s\tremaining: 9.19s\n",
      "236:\tlearn: 0.0006777\ttotal: 2.85s\tremaining: 9.18s\n",
      "237:\tlearn: 0.0006681\ttotal: 2.86s\tremaining: 9.17s\n",
      "238:\tlearn: 0.0006622\ttotal: 2.88s\tremaining: 9.16s\n",
      "239:\tlearn: 0.0006478\ttotal: 2.89s\tremaining: 9.14s\n",
      "240:\tlearn: 0.0006472\ttotal: 2.9s\tremaining: 9.13s\n",
      "241:\tlearn: 0.0006456\ttotal: 2.91s\tremaining: 9.11s\n",
      "242:\tlearn: 0.0006304\ttotal: 2.92s\tremaining: 9.1s\n",
      "243:\tlearn: 0.0006294\ttotal: 2.93s\tremaining: 9.09s\n",
      "244:\tlearn: 0.0006288\ttotal: 2.94s\tremaining: 9.07s\n",
      "245:\tlearn: 0.0006275\ttotal: 2.96s\tremaining: 9.06s\n",
      "246:\tlearn: 0.0006266\ttotal: 2.97s\tremaining: 9.04s\n",
      "247:\tlearn: 0.0006249\ttotal: 2.98s\tremaining: 9.03s\n",
      "248:\tlearn: 0.0006242\ttotal: 2.99s\tremaining: 9.01s\n",
      "249:\tlearn: 0.0006232\ttotal: 3s\tremaining: 9s\n",
      "250:\tlearn: 0.0006143\ttotal: 3.01s\tremaining: 8.98s\n",
      "251:\tlearn: 0.0006134\ttotal: 3.02s\tremaining: 8.97s\n",
      "252:\tlearn: 0.0005995\ttotal: 3.03s\tremaining: 8.96s\n",
      "253:\tlearn: 0.0005991\ttotal: 3.05s\tremaining: 8.95s\n",
      "254:\tlearn: 0.0005978\ttotal: 3.06s\tremaining: 8.94s\n",
      "255:\tlearn: 0.0005966\ttotal: 3.07s\tremaining: 8.93s\n",
      "256:\tlearn: 0.0005962\ttotal: 3.08s\tremaining: 8.91s\n",
      "257:\tlearn: 0.0005949\ttotal: 3.09s\tremaining: 8.89s\n",
      "258:\tlearn: 0.0005945\ttotal: 3.1s\tremaining: 8.88s\n",
      "259:\tlearn: 0.0005933\ttotal: 3.11s\tremaining: 8.86s\n",
      "260:\tlearn: 0.0005803\ttotal: 3.13s\tremaining: 8.85s\n",
      "261:\tlearn: 0.0005792\ttotal: 3.14s\tremaining: 8.84s\n",
      "262:\tlearn: 0.0005786\ttotal: 3.15s\tremaining: 8.82s\n",
      "263:\tlearn: 0.0005772\ttotal: 3.16s\tremaining: 8.8s\n",
      "264:\tlearn: 0.0005660\ttotal: 3.17s\tremaining: 8.79s\n",
      "265:\tlearn: 0.0005580\ttotal: 3.18s\tremaining: 8.77s\n",
      "266:\tlearn: 0.0005482\ttotal: 3.19s\tremaining: 8.75s\n",
      "267:\tlearn: 0.0005479\ttotal: 3.2s\tremaining: 8.74s\n",
      "268:\tlearn: 0.0005458\ttotal: 3.21s\tremaining: 8.72s\n",
      "269:\tlearn: 0.0005445\ttotal: 3.22s\tremaining: 8.71s\n",
      "270:\tlearn: 0.0005435\ttotal: 3.23s\tremaining: 8.69s\n",
      "271:\tlearn: 0.0005429\ttotal: 3.24s\tremaining: 8.68s\n",
      "272:\tlearn: 0.0005417\ttotal: 3.26s\tremaining: 8.67s\n",
      "273:\tlearn: 0.0005407\ttotal: 3.27s\tremaining: 8.66s\n",
      "274:\tlearn: 0.0005404\ttotal: 3.28s\tremaining: 8.65s\n",
      "275:\tlearn: 0.0005389\ttotal: 3.29s\tremaining: 8.63s\n",
      "276:\tlearn: 0.0005384\ttotal: 3.3s\tremaining: 8.62s\n",
      "277:\tlearn: 0.0005373\ttotal: 3.31s\tremaining: 8.61s\n",
      "278:\tlearn: 0.0005362\ttotal: 3.33s\tremaining: 8.59s\n",
      "279:\tlearn: 0.0005348\ttotal: 3.34s\tremaining: 8.58s\n",
      "280:\tlearn: 0.0005342\ttotal: 3.35s\tremaining: 8.56s\n",
      "281:\tlearn: 0.0005327\ttotal: 3.36s\tremaining: 8.55s\n",
      "282:\tlearn: 0.0005317\ttotal: 3.37s\tremaining: 8.53s\n",
      "283:\tlearn: 0.0005307\ttotal: 3.38s\tremaining: 8.52s\n",
      "284:\tlearn: 0.0005295\ttotal: 3.39s\tremaining: 8.5s\n",
      "285:\tlearn: 0.0005279\ttotal: 3.4s\tremaining: 8.48s\n",
      "286:\tlearn: 0.0005275\ttotal: 3.41s\tremaining: 8.47s\n",
      "287:\tlearn: 0.0005272\ttotal: 3.42s\tremaining: 8.46s\n",
      "288:\tlearn: 0.0005174\ttotal: 3.43s\tremaining: 8.45s\n",
      "289:\tlearn: 0.0005163\ttotal: 3.45s\tremaining: 8.44s\n",
      "290:\tlearn: 0.0005148\ttotal: 3.46s\tremaining: 8.43s\n",
      "291:\tlearn: 0.0005136\ttotal: 3.47s\tremaining: 8.42s\n",
      "292:\tlearn: 0.0005127\ttotal: 3.48s\tremaining: 8.41s\n",
      "293:\tlearn: 0.0005119\ttotal: 3.5s\tremaining: 8.4s\n",
      "294:\tlearn: 0.0005115\ttotal: 3.51s\tremaining: 8.38s\n",
      "295:\tlearn: 0.0005108\ttotal: 3.52s\tremaining: 8.37s\n",
      "296:\tlearn: 0.0005099\ttotal: 3.53s\tremaining: 8.35s\n",
      "297:\tlearn: 0.0005086\ttotal: 3.54s\tremaining: 8.34s\n",
      "298:\tlearn: 0.0005082\ttotal: 3.55s\tremaining: 8.32s\n",
      "299:\tlearn: 0.0005072\ttotal: 3.56s\tremaining: 8.31s\n",
      "300:\tlearn: 0.0005060\ttotal: 3.57s\tremaining: 8.29s\n",
      "301:\tlearn: 0.0005053\ttotal: 3.58s\tremaining: 8.28s\n",
      "302:\tlearn: 0.0004987\ttotal: 3.6s\tremaining: 8.27s\n",
      "303:\tlearn: 0.0004887\ttotal: 3.61s\tremaining: 8.26s\n",
      "304:\tlearn: 0.0004881\ttotal: 3.62s\tremaining: 8.25s\n",
      "305:\tlearn: 0.0004820\ttotal: 3.63s\tremaining: 8.24s\n",
      "306:\tlearn: 0.0004811\ttotal: 3.64s\tremaining: 8.22s\n",
      "307:\tlearn: 0.0004807\ttotal: 3.65s\tremaining: 8.21s\n",
      "308:\tlearn: 0.0004802\ttotal: 3.66s\tremaining: 8.19s\n",
      "309:\tlearn: 0.0004718\ttotal: 3.68s\tremaining: 8.19s\n",
      "310:\tlearn: 0.0004713\ttotal: 3.69s\tremaining: 8.17s\n",
      "311:\tlearn: 0.0004707\ttotal: 3.7s\tremaining: 8.15s\n",
      "312:\tlearn: 0.0004703\ttotal: 3.71s\tremaining: 8.14s\n",
      "313:\tlearn: 0.0004696\ttotal: 3.72s\tremaining: 8.13s\n",
      "314:\tlearn: 0.0004640\ttotal: 3.73s\tremaining: 8.11s\n",
      "315:\tlearn: 0.0004631\ttotal: 3.74s\tremaining: 8.1s\n",
      "316:\tlearn: 0.0004554\ttotal: 3.75s\tremaining: 8.08s\n",
      "317:\tlearn: 0.0004547\ttotal: 3.76s\tremaining: 8.07s\n",
      "318:\tlearn: 0.0004539\ttotal: 3.77s\tremaining: 8.05s\n",
      "319:\tlearn: 0.0004535\ttotal: 3.78s\tremaining: 8.04s\n",
      "320:\tlearn: 0.0004532\ttotal: 3.79s\tremaining: 8.03s\n",
      "321:\tlearn: 0.0004529\ttotal: 3.8s\tremaining: 8.01s\n",
      "322:\tlearn: 0.0004522\ttotal: 3.81s\tremaining: 8s\n",
      "323:\tlearn: 0.0004520\ttotal: 3.83s\tremaining: 7.98s\n",
      "324:\tlearn: 0.0004515\ttotal: 3.84s\tremaining: 7.97s\n",
      "325:\tlearn: 0.0004463\ttotal: 3.85s\tremaining: 7.95s\n"
     ]
    },
    {
     "name": "stdout",
     "output_type": "stream",
     "text": [
      "326:\tlearn: 0.0004454\ttotal: 3.86s\tremaining: 7.94s\n",
      "327:\tlearn: 0.0004450\ttotal: 3.87s\tremaining: 7.93s\n",
      "328:\tlearn: 0.0004445\ttotal: 3.88s\tremaining: 7.92s\n",
      "329:\tlearn: 0.0004442\ttotal: 3.9s\tremaining: 7.91s\n",
      "330:\tlearn: 0.0004392\ttotal: 3.91s\tremaining: 7.9s\n",
      "331:\tlearn: 0.0004364\ttotal: 3.92s\tremaining: 7.88s\n",
      "332:\tlearn: 0.0004360\ttotal: 3.93s\tremaining: 7.87s\n",
      "333:\tlearn: 0.0004354\ttotal: 3.94s\tremaining: 7.86s\n",
      "334:\tlearn: 0.0004349\ttotal: 3.95s\tremaining: 7.84s\n",
      "335:\tlearn: 0.0004341\ttotal: 3.96s\tremaining: 7.83s\n",
      "336:\tlearn: 0.0004336\ttotal: 3.97s\tremaining: 7.81s\n",
      "337:\tlearn: 0.0004330\ttotal: 3.98s\tremaining: 7.8s\n",
      "338:\tlearn: 0.0004324\ttotal: 3.99s\tremaining: 7.79s\n",
      "339:\tlearn: 0.0004320\ttotal: 4s\tremaining: 7.77s\n",
      "340:\tlearn: 0.0004314\ttotal: 4.01s\tremaining: 7.76s\n",
      "341:\tlearn: 0.0004268\ttotal: 4.03s\tremaining: 7.75s\n",
      "342:\tlearn: 0.0004265\ttotal: 4.04s\tremaining: 7.73s\n",
      "343:\tlearn: 0.0004258\ttotal: 4.05s\tremaining: 7.72s\n",
      "344:\tlearn: 0.0004254\ttotal: 4.06s\tremaining: 7.71s\n",
      "345:\tlearn: 0.0004248\ttotal: 4.07s\tremaining: 7.69s\n",
      "346:\tlearn: 0.0004244\ttotal: 4.08s\tremaining: 7.68s\n",
      "347:\tlearn: 0.0004236\ttotal: 4.09s\tremaining: 7.67s\n",
      "348:\tlearn: 0.0004234\ttotal: 4.11s\tremaining: 7.66s\n",
      "349:\tlearn: 0.0004229\ttotal: 4.12s\tremaining: 7.64s\n",
      "350:\tlearn: 0.0004160\ttotal: 4.13s\tremaining: 7.63s\n",
      "351:\tlearn: 0.0004157\ttotal: 4.14s\tremaining: 7.62s\n",
      "352:\tlearn: 0.0004084\ttotal: 4.15s\tremaining: 7.61s\n",
      "353:\tlearn: 0.0004076\ttotal: 4.16s\tremaining: 7.59s\n",
      "354:\tlearn: 0.0004028\ttotal: 4.17s\tremaining: 7.58s\n",
      "355:\tlearn: 0.0004020\ttotal: 4.18s\tremaining: 7.57s\n",
      "356:\tlearn: 0.0004018\ttotal: 4.19s\tremaining: 7.55s\n",
      "357:\tlearn: 0.0004010\ttotal: 4.21s\tremaining: 7.54s\n",
      "358:\tlearn: 0.0004007\ttotal: 4.22s\tremaining: 7.53s\n",
      "359:\tlearn: 0.0004000\ttotal: 4.23s\tremaining: 7.52s\n",
      "360:\tlearn: 0.0003997\ttotal: 4.24s\tremaining: 7.51s\n",
      "361:\tlearn: 0.0003995\ttotal: 4.26s\tremaining: 7.5s\n",
      "362:\tlearn: 0.0003992\ttotal: 4.27s\tremaining: 7.49s\n",
      "363:\tlearn: 0.0003989\ttotal: 4.29s\tremaining: 7.49s\n",
      "364:\tlearn: 0.0003969\ttotal: 4.3s\tremaining: 7.48s\n",
      "365:\tlearn: 0.0003968\ttotal: 4.31s\tremaining: 7.47s\n",
      "366:\tlearn: 0.0003964\ttotal: 4.33s\tremaining: 7.46s\n",
      "367:\tlearn: 0.0003962\ttotal: 4.34s\tremaining: 7.45s\n",
      "368:\tlearn: 0.0003902\ttotal: 4.35s\tremaining: 7.44s\n",
      "369:\tlearn: 0.0003900\ttotal: 4.36s\tremaining: 7.43s\n",
      "370:\tlearn: 0.0003893\ttotal: 4.37s\tremaining: 7.42s\n",
      "371:\tlearn: 0.0003891\ttotal: 4.39s\tremaining: 7.4s\n",
      "372:\tlearn: 0.0003887\ttotal: 4.4s\tremaining: 7.39s\n",
      "373:\tlearn: 0.0003881\ttotal: 4.41s\tremaining: 7.38s\n",
      "374:\tlearn: 0.0003875\ttotal: 4.42s\tremaining: 7.37s\n",
      "375:\tlearn: 0.0003869\ttotal: 4.43s\tremaining: 7.35s\n",
      "376:\tlearn: 0.0003804\ttotal: 4.44s\tremaining: 7.34s\n",
      "377:\tlearn: 0.0003766\ttotal: 4.45s\tremaining: 7.33s\n",
      "378:\tlearn: 0.0003764\ttotal: 4.46s\tremaining: 7.32s\n",
      "379:\tlearn: 0.0003762\ttotal: 4.48s\tremaining: 7.3s\n",
      "380:\tlearn: 0.0003702\ttotal: 4.49s\tremaining: 7.3s\n",
      "381:\tlearn: 0.0003698\ttotal: 4.5s\tremaining: 7.29s\n",
      "382:\tlearn: 0.0003691\ttotal: 4.51s\tremaining: 7.27s\n",
      "383:\tlearn: 0.0003686\ttotal: 4.53s\tremaining: 7.26s\n",
      "384:\tlearn: 0.0003682\ttotal: 4.54s\tremaining: 7.25s\n",
      "385:\tlearn: 0.0003680\ttotal: 4.55s\tremaining: 7.23s\n",
      "386:\tlearn: 0.0003675\ttotal: 4.56s\tremaining: 7.22s\n",
      "387:\tlearn: 0.0003673\ttotal: 4.57s\tremaining: 7.21s\n",
      "388:\tlearn: 0.0003667\ttotal: 4.58s\tremaining: 7.19s\n",
      "389:\tlearn: 0.0003662\ttotal: 4.59s\tremaining: 7.18s\n",
      "390:\tlearn: 0.0003657\ttotal: 4.6s\tremaining: 7.17s\n",
      "391:\tlearn: 0.0003621\ttotal: 4.61s\tremaining: 7.15s\n",
      "392:\tlearn: 0.0003616\ttotal: 4.62s\tremaining: 7.14s\n",
      "393:\tlearn: 0.0003613\ttotal: 4.63s\tremaining: 7.13s\n",
      "394:\tlearn: 0.0003612\ttotal: 4.64s\tremaining: 7.11s\n",
      "395:\tlearn: 0.0003609\ttotal: 4.66s\tremaining: 7.1s\n",
      "396:\tlearn: 0.0003608\ttotal: 4.66s\tremaining: 7.08s\n",
      "397:\tlearn: 0.0003606\ttotal: 4.67s\tremaining: 7.07s\n",
      "398:\tlearn: 0.0003603\ttotal: 4.69s\tremaining: 7.06s\n",
      "399:\tlearn: 0.0003560\ttotal: 4.7s\tremaining: 7.06s\n",
      "400:\tlearn: 0.0003557\ttotal: 4.72s\tremaining: 7.06s\n",
      "401:\tlearn: 0.0003523\ttotal: 4.74s\tremaining: 7.05s\n",
      "402:\tlearn: 0.0003516\ttotal: 4.75s\tremaining: 7.04s\n",
      "403:\tlearn: 0.0003514\ttotal: 4.76s\tremaining: 7.02s\n",
      "404:\tlearn: 0.0003508\ttotal: 4.77s\tremaining: 7.01s\n",
      "405:\tlearn: 0.0003505\ttotal: 4.78s\tremaining: 7s\n",
      "406:\tlearn: 0.0003501\ttotal: 4.79s\tremaining: 6.98s\n",
      "407:\tlearn: 0.0003478\ttotal: 4.8s\tremaining: 6.97s\n",
      "408:\tlearn: 0.0003475\ttotal: 4.81s\tremaining: 6.96s\n",
      "409:\tlearn: 0.0003470\ttotal: 4.82s\tremaining: 6.94s\n",
      "410:\tlearn: 0.0003466\ttotal: 4.83s\tremaining: 6.93s\n",
      "411:\tlearn: 0.0003462\ttotal: 4.84s\tremaining: 6.91s\n",
      "412:\tlearn: 0.0003460\ttotal: 4.85s\tremaining: 6.9s\n",
      "413:\tlearn: 0.0003456\ttotal: 4.86s\tremaining: 6.88s\n",
      "414:\tlearn: 0.0003449\ttotal: 4.87s\tremaining: 6.87s\n",
      "415:\tlearn: 0.0003396\ttotal: 4.88s\tremaining: 6.86s\n",
      "416:\tlearn: 0.0003392\ttotal: 4.9s\tremaining: 6.85s\n",
      "417:\tlearn: 0.0003389\ttotal: 4.91s\tremaining: 6.84s\n",
      "418:\tlearn: 0.0003353\ttotal: 4.92s\tremaining: 6.83s\n",
      "419:\tlearn: 0.0003349\ttotal: 4.93s\tremaining: 6.81s\n",
      "420:\tlearn: 0.0003346\ttotal: 4.95s\tremaining: 6.8s\n",
      "421:\tlearn: 0.0003341\ttotal: 4.96s\tremaining: 6.79s\n",
      "422:\tlearn: 0.0003338\ttotal: 4.97s\tremaining: 6.78s\n",
      "423:\tlearn: 0.0003335\ttotal: 4.98s\tremaining: 6.77s\n",
      "424:\tlearn: 0.0003331\ttotal: 4.99s\tremaining: 6.75s\n",
      "425:\tlearn: 0.0003327\ttotal: 5s\tremaining: 6.74s\n",
      "426:\tlearn: 0.0003326\ttotal: 5.01s\tremaining: 6.73s\n",
      "427:\tlearn: 0.0003324\ttotal: 5.02s\tremaining: 6.71s\n",
      "428:\tlearn: 0.0003320\ttotal: 5.03s\tremaining: 6.7s\n",
      "429:\tlearn: 0.0003289\ttotal: 5.04s\tremaining: 6.69s\n",
      "430:\tlearn: 0.0003241\ttotal: 5.06s\tremaining: 6.68s\n",
      "431:\tlearn: 0.0003240\ttotal: 5.07s\tremaining: 6.66s\n",
      "432:\tlearn: 0.0003236\ttotal: 5.08s\tremaining: 6.65s\n",
      "433:\tlearn: 0.0003233\ttotal: 5.09s\tremaining: 6.64s\n",
      "434:\tlearn: 0.0003228\ttotal: 5.1s\tremaining: 6.63s\n",
      "435:\tlearn: 0.0003226\ttotal: 5.11s\tremaining: 6.62s\n",
      "436:\tlearn: 0.0003222\ttotal: 5.13s\tremaining: 6.6s\n",
      "437:\tlearn: 0.0003218\ttotal: 5.14s\tremaining: 6.59s\n",
      "438:\tlearn: 0.0003189\ttotal: 5.15s\tremaining: 6.58s\n",
      "439:\tlearn: 0.0003187\ttotal: 5.16s\tremaining: 6.57s\n",
      "440:\tlearn: 0.0003142\ttotal: 5.17s\tremaining: 6.56s\n",
      "441:\tlearn: 0.0003139\ttotal: 5.18s\tremaining: 6.54s\n",
      "442:\tlearn: 0.0003134\ttotal: 5.19s\tremaining: 6.53s\n",
      "443:\tlearn: 0.0003128\ttotal: 5.2s\tremaining: 6.52s\n",
      "444:\tlearn: 0.0003101\ttotal: 5.21s\tremaining: 6.5s\n",
      "445:\tlearn: 0.0003099\ttotal: 5.23s\tremaining: 6.49s\n",
      "446:\tlearn: 0.0003073\ttotal: 5.24s\tremaining: 6.48s\n",
      "447:\tlearn: 0.0003047\ttotal: 5.25s\tremaining: 6.47s\n",
      "448:\tlearn: 0.0003044\ttotal: 5.26s\tremaining: 6.46s\n",
      "449:\tlearn: 0.0003040\ttotal: 5.27s\tremaining: 6.44s\n",
      "450:\tlearn: 0.0003038\ttotal: 5.28s\tremaining: 6.43s\n",
      "451:\tlearn: 0.0003022\ttotal: 5.29s\tremaining: 6.42s\n",
      "452:\tlearn: 0.0003020\ttotal: 5.3s\tremaining: 6.4s\n",
      "453:\tlearn: 0.0003016\ttotal: 5.32s\tremaining: 6.39s\n",
      "454:\tlearn: 0.0003013\ttotal: 5.33s\tremaining: 6.38s\n",
      "455:\tlearn: 0.0003010\ttotal: 5.34s\tremaining: 6.37s\n",
      "456:\tlearn: 0.0003007\ttotal: 5.35s\tremaining: 6.36s\n",
      "457:\tlearn: 0.0003004\ttotal: 5.36s\tremaining: 6.35s\n",
      "458:\tlearn: 0.0002998\ttotal: 5.38s\tremaining: 6.34s\n",
      "459:\tlearn: 0.0002958\ttotal: 5.39s\tremaining: 6.33s\n",
      "460:\tlearn: 0.0002956\ttotal: 5.4s\tremaining: 6.32s\n",
      "461:\tlearn: 0.0002952\ttotal: 5.41s\tremaining: 6.3s\n",
      "462:\tlearn: 0.0002949\ttotal: 5.42s\tremaining: 6.29s\n",
      "463:\tlearn: 0.0002925\ttotal: 5.44s\tremaining: 6.28s\n",
      "464:\tlearn: 0.0002922\ttotal: 5.45s\tremaining: 6.27s\n",
      "465:\tlearn: 0.0002910\ttotal: 5.46s\tremaining: 6.25s\n",
      "466:\tlearn: 0.0002908\ttotal: 5.47s\tremaining: 6.24s\n",
      "467:\tlearn: 0.0002870\ttotal: 5.48s\tremaining: 6.23s\n",
      "468:\tlearn: 0.0002866\ttotal: 5.5s\tremaining: 6.22s\n",
      "469:\tlearn: 0.0002862\ttotal: 5.51s\tremaining: 6.21s\n",
      "470:\tlearn: 0.0002859\ttotal: 5.52s\tremaining: 6.2s\n",
      "471:\tlearn: 0.0002856\ttotal: 5.54s\tremaining: 6.19s\n",
      "472:\tlearn: 0.0002855\ttotal: 5.55s\tremaining: 6.18s\n",
      "473:\tlearn: 0.0002833\ttotal: 5.56s\tremaining: 6.17s\n",
      "474:\tlearn: 0.0002820\ttotal: 5.57s\tremaining: 6.16s\n",
      "475:\tlearn: 0.0002817\ttotal: 5.58s\tremaining: 6.14s\n",
      "476:\tlearn: 0.0002814\ttotal: 5.59s\tremaining: 6.13s\n",
      "477:\tlearn: 0.0002804\ttotal: 5.6s\tremaining: 6.12s\n",
      "478:\tlearn: 0.0002802\ttotal: 5.62s\tremaining: 6.11s\n",
      "479:\tlearn: 0.0002775\ttotal: 5.63s\tremaining: 6.09s\n",
      "480:\tlearn: 0.0002773\ttotal: 5.64s\tremaining: 6.08s\n",
      "481:\tlearn: 0.0002771\ttotal: 5.65s\tremaining: 6.07s\n",
      "482:\tlearn: 0.0002768\ttotal: 5.66s\tremaining: 6.06s\n",
      "483:\tlearn: 0.0002765\ttotal: 5.67s\tremaining: 6.04s\n",
      "484:\tlearn: 0.0002744\ttotal: 5.68s\tremaining: 6.03s\n",
      "485:\tlearn: 0.0002741\ttotal: 5.69s\tremaining: 6.02s\n"
     ]
    },
    {
     "name": "stdout",
     "output_type": "stream",
     "text": [
      "486:\tlearn: 0.0002737\ttotal: 5.7s\tremaining: 6s\n",
      "487:\tlearn: 0.0002729\ttotal: 5.71s\tremaining: 5.99s\n",
      "488:\tlearn: 0.0002727\ttotal: 5.72s\tremaining: 5.98s\n",
      "489:\tlearn: 0.0002724\ttotal: 5.74s\tremaining: 5.97s\n",
      "490:\tlearn: 0.0002690\ttotal: 5.75s\tremaining: 5.96s\n",
      "491:\tlearn: 0.0002686\ttotal: 5.76s\tremaining: 5.95s\n",
      "492:\tlearn: 0.0002685\ttotal: 5.77s\tremaining: 5.93s\n",
      "493:\tlearn: 0.0002683\ttotal: 5.78s\tremaining: 5.92s\n",
      "494:\tlearn: 0.0002681\ttotal: 5.79s\tremaining: 5.91s\n",
      "495:\tlearn: 0.0002679\ttotal: 5.8s\tremaining: 5.9s\n",
      "496:\tlearn: 0.0002677\ttotal: 5.82s\tremaining: 5.89s\n",
      "497:\tlearn: 0.0002676\ttotal: 5.83s\tremaining: 5.88s\n",
      "498:\tlearn: 0.0002674\ttotal: 5.84s\tremaining: 5.87s\n",
      "499:\tlearn: 0.0002671\ttotal: 5.86s\tremaining: 5.86s\n",
      "500:\tlearn: 0.0002667\ttotal: 5.87s\tremaining: 5.85s\n",
      "501:\tlearn: 0.0002666\ttotal: 5.88s\tremaining: 5.84s\n",
      "502:\tlearn: 0.0002663\ttotal: 5.9s\tremaining: 5.83s\n",
      "503:\tlearn: 0.0002633\ttotal: 5.91s\tremaining: 5.82s\n",
      "504:\tlearn: 0.0002619\ttotal: 5.93s\tremaining: 5.81s\n",
      "505:\tlearn: 0.0002617\ttotal: 5.94s\tremaining: 5.8s\n",
      "506:\tlearn: 0.0002608\ttotal: 5.95s\tremaining: 5.79s\n",
      "507:\tlearn: 0.0002606\ttotal: 5.96s\tremaining: 5.78s\n",
      "508:\tlearn: 0.0002603\ttotal: 5.98s\tremaining: 5.76s\n",
      "509:\tlearn: 0.0002600\ttotal: 5.99s\tremaining: 5.75s\n",
      "510:\tlearn: 0.0002598\ttotal: 6s\tremaining: 5.74s\n",
      "511:\tlearn: 0.0002586\ttotal: 6.01s\tremaining: 5.73s\n",
      "512:\tlearn: 0.0002565\ttotal: 6.02s\tremaining: 5.72s\n",
      "513:\tlearn: 0.0002562\ttotal: 6.03s\tremaining: 5.7s\n",
      "514:\tlearn: 0.0002559\ttotal: 6.04s\tremaining: 5.69s\n",
      "515:\tlearn: 0.0002557\ttotal: 6.05s\tremaining: 5.68s\n",
      "516:\tlearn: 0.0002556\ttotal: 6.07s\tremaining: 5.67s\n",
      "517:\tlearn: 0.0002553\ttotal: 6.08s\tremaining: 5.65s\n",
      "518:\tlearn: 0.0002552\ttotal: 6.09s\tremaining: 5.64s\n",
      "519:\tlearn: 0.0002550\ttotal: 6.1s\tremaining: 5.63s\n",
      "520:\tlearn: 0.0002548\ttotal: 6.11s\tremaining: 5.62s\n",
      "521:\tlearn: 0.0002546\ttotal: 6.12s\tremaining: 5.6s\n",
      "522:\tlearn: 0.0002545\ttotal: 6.13s\tremaining: 5.59s\n",
      "523:\tlearn: 0.0002543\ttotal: 6.14s\tremaining: 5.58s\n",
      "524:\tlearn: 0.0002542\ttotal: 6.16s\tremaining: 5.57s\n",
      "525:\tlearn: 0.0002540\ttotal: 6.17s\tremaining: 5.56s\n",
      "526:\tlearn: 0.0002538\ttotal: 6.18s\tremaining: 5.55s\n",
      "527:\tlearn: 0.0002534\ttotal: 6.19s\tremaining: 5.54s\n",
      "528:\tlearn: 0.0002532\ttotal: 6.2s\tremaining: 5.52s\n",
      "529:\tlearn: 0.0002530\ttotal: 6.21s\tremaining: 5.51s\n",
      "530:\tlearn: 0.0002527\ttotal: 6.23s\tremaining: 5.5s\n",
      "531:\tlearn: 0.0002509\ttotal: 6.24s\tremaining: 5.49s\n",
      "532:\tlearn: 0.0002508\ttotal: 6.25s\tremaining: 5.47s\n",
      "533:\tlearn: 0.0002506\ttotal: 6.26s\tremaining: 5.46s\n",
      "534:\tlearn: 0.0002477\ttotal: 6.27s\tremaining: 5.45s\n",
      "535:\tlearn: 0.0002475\ttotal: 6.28s\tremaining: 5.44s\n",
      "536:\tlearn: 0.0002449\ttotal: 6.29s\tremaining: 5.43s\n",
      "537:\tlearn: 0.0002447\ttotal: 6.31s\tremaining: 5.42s\n",
      "538:\tlearn: 0.0002430\ttotal: 6.32s\tremaining: 5.4s\n",
      "539:\tlearn: 0.0002429\ttotal: 6.33s\tremaining: 5.39s\n",
      "540:\tlearn: 0.0002427\ttotal: 6.35s\tremaining: 5.38s\n",
      "541:\tlearn: 0.0002426\ttotal: 6.36s\tremaining: 5.37s\n",
      "542:\tlearn: 0.0002425\ttotal: 6.37s\tremaining: 5.36s\n",
      "543:\tlearn: 0.0002424\ttotal: 6.38s\tremaining: 5.35s\n",
      "544:\tlearn: 0.0002422\ttotal: 6.39s\tremaining: 5.34s\n",
      "545:\tlearn: 0.0002421\ttotal: 6.4s\tremaining: 5.33s\n",
      "546:\tlearn: 0.0002419\ttotal: 6.42s\tremaining: 5.31s\n",
      "547:\tlearn: 0.0002417\ttotal: 6.43s\tremaining: 5.3s\n",
      "548:\tlearn: 0.0002416\ttotal: 6.44s\tremaining: 5.29s\n",
      "549:\tlearn: 0.0002413\ttotal: 6.45s\tremaining: 5.28s\n",
      "550:\tlearn: 0.0002411\ttotal: 6.46s\tremaining: 5.26s\n",
      "551:\tlearn: 0.0002409\ttotal: 6.47s\tremaining: 5.25s\n",
      "552:\tlearn: 0.0002407\ttotal: 6.48s\tremaining: 5.24s\n",
      "553:\tlearn: 0.0002390\ttotal: 6.49s\tremaining: 5.23s\n",
      "554:\tlearn: 0.0002388\ttotal: 6.51s\tremaining: 5.22s\n",
      "555:\tlearn: 0.0002386\ttotal: 6.52s\tremaining: 5.2s\n",
      "556:\tlearn: 0.0002385\ttotal: 6.53s\tremaining: 5.19s\n",
      "557:\tlearn: 0.0002384\ttotal: 6.54s\tremaining: 5.18s\n",
      "558:\tlearn: 0.0002382\ttotal: 6.56s\tremaining: 5.17s\n",
      "559:\tlearn: 0.0002381\ttotal: 6.57s\tremaining: 5.16s\n",
      "560:\tlearn: 0.0002367\ttotal: 6.58s\tremaining: 5.15s\n",
      "561:\tlearn: 0.0002365\ttotal: 6.59s\tremaining: 5.14s\n",
      "562:\tlearn: 0.0002341\ttotal: 6.6s\tremaining: 5.13s\n",
      "563:\tlearn: 0.0002340\ttotal: 6.61s\tremaining: 5.11s\n",
      "564:\tlearn: 0.0002332\ttotal: 6.63s\tremaining: 5.1s\n",
      "565:\tlearn: 0.0002330\ttotal: 6.64s\tremaining: 5.09s\n",
      "566:\tlearn: 0.0002328\ttotal: 6.65s\tremaining: 5.08s\n",
      "567:\tlearn: 0.0002326\ttotal: 6.66s\tremaining: 5.06s\n",
      "568:\tlearn: 0.0002323\ttotal: 6.67s\tremaining: 5.05s\n",
      "569:\tlearn: 0.0002321\ttotal: 6.68s\tremaining: 5.04s\n",
      "570:\tlearn: 0.0002295\ttotal: 6.69s\tremaining: 5.03s\n",
      "571:\tlearn: 0.0002295\ttotal: 6.7s\tremaining: 5.01s\n",
      "572:\tlearn: 0.0002293\ttotal: 6.71s\tremaining: 5s\n",
      "573:\tlearn: 0.0002290\ttotal: 6.72s\tremaining: 4.99s\n",
      "574:\tlearn: 0.0002289\ttotal: 6.73s\tremaining: 4.98s\n",
      "575:\tlearn: 0.0002286\ttotal: 6.75s\tremaining: 4.97s\n",
      "576:\tlearn: 0.0002284\ttotal: 6.76s\tremaining: 4.96s\n",
      "577:\tlearn: 0.0002284\ttotal: 6.77s\tremaining: 4.94s\n",
      "578:\tlearn: 0.0002283\ttotal: 6.78s\tremaining: 4.93s\n",
      "579:\tlearn: 0.0002281\ttotal: 6.79s\tremaining: 4.92s\n",
      "580:\tlearn: 0.0002279\ttotal: 6.8s\tremaining: 4.91s\n",
      "581:\tlearn: 0.0002277\ttotal: 6.81s\tremaining: 4.89s\n",
      "582:\tlearn: 0.0002276\ttotal: 6.82s\tremaining: 4.88s\n",
      "583:\tlearn: 0.0002251\ttotal: 6.83s\tremaining: 4.87s\n",
      "584:\tlearn: 0.0002249\ttotal: 6.85s\tremaining: 4.86s\n",
      "585:\tlearn: 0.0002248\ttotal: 6.86s\tremaining: 4.84s\n",
      "586:\tlearn: 0.0002246\ttotal: 6.87s\tremaining: 4.83s\n",
      "587:\tlearn: 0.0002222\ttotal: 6.88s\tremaining: 4.82s\n",
      "588:\tlearn: 0.0002220\ttotal: 6.89s\tremaining: 4.81s\n",
      "589:\tlearn: 0.0002218\ttotal: 6.9s\tremaining: 4.8s\n",
      "590:\tlearn: 0.0002217\ttotal: 6.91s\tremaining: 4.78s\n",
      "591:\tlearn: 0.0002216\ttotal: 6.93s\tremaining: 4.77s\n",
      "592:\tlearn: 0.0002215\ttotal: 6.94s\tremaining: 4.76s\n",
      "593:\tlearn: 0.0002200\ttotal: 6.95s\tremaining: 4.75s\n",
      "594:\tlearn: 0.0002177\ttotal: 6.96s\tremaining: 4.74s\n",
      "595:\tlearn: 0.0002176\ttotal: 6.97s\tremaining: 4.73s\n",
      "596:\tlearn: 0.0002174\ttotal: 6.99s\tremaining: 4.72s\n",
      "597:\tlearn: 0.0002173\ttotal: 7s\tremaining: 4.71s\n",
      "598:\tlearn: 0.0002172\ttotal: 7.01s\tremaining: 4.69s\n",
      "599:\tlearn: 0.0002158\ttotal: 7.02s\tremaining: 4.68s\n",
      "600:\tlearn: 0.0002155\ttotal: 7.03s\tremaining: 4.67s\n",
      "601:\tlearn: 0.0002153\ttotal: 7.04s\tremaining: 4.65s\n",
      "602:\tlearn: 0.0002152\ttotal: 7.05s\tremaining: 4.64s\n",
      "603:\tlearn: 0.0002150\ttotal: 7.06s\tremaining: 4.63s\n",
      "604:\tlearn: 0.0002144\ttotal: 7.07s\tremaining: 4.62s\n",
      "605:\tlearn: 0.0002130\ttotal: 7.08s\tremaining: 4.61s\n",
      "606:\tlearn: 0.0002129\ttotal: 7.09s\tremaining: 4.59s\n",
      "607:\tlearn: 0.0002109\ttotal: 7.11s\tremaining: 4.58s\n",
      "608:\tlearn: 0.0002108\ttotal: 7.12s\tremaining: 4.57s\n",
      "609:\tlearn: 0.0002087\ttotal: 7.13s\tremaining: 4.56s\n",
      "610:\tlearn: 0.0002085\ttotal: 7.14s\tremaining: 4.55s\n",
      "611:\tlearn: 0.0002084\ttotal: 7.15s\tremaining: 4.54s\n",
      "612:\tlearn: 0.0002082\ttotal: 7.17s\tremaining: 4.52s\n",
      "613:\tlearn: 0.0002081\ttotal: 7.18s\tremaining: 4.51s\n",
      "614:\tlearn: 0.0002068\ttotal: 7.19s\tremaining: 4.5s\n",
      "615:\tlearn: 0.0002067\ttotal: 7.2s\tremaining: 4.49s\n",
      "616:\tlearn: 0.0002066\ttotal: 7.21s\tremaining: 4.48s\n",
      "617:\tlearn: 0.0002046\ttotal: 7.22s\tremaining: 4.46s\n",
      "618:\tlearn: 0.0002045\ttotal: 7.24s\tremaining: 4.46s\n",
      "619:\tlearn: 0.0002044\ttotal: 7.25s\tremaining: 4.44s\n",
      "620:\tlearn: 0.0002031\ttotal: 7.26s\tremaining: 4.43s\n",
      "621:\tlearn: 0.0002031\ttotal: 7.27s\tremaining: 4.42s\n",
      "622:\tlearn: 0.0002030\ttotal: 7.28s\tremaining: 4.41s\n",
      "623:\tlearn: 0.0002029\ttotal: 7.29s\tremaining: 4.39s\n",
      "624:\tlearn: 0.0002027\ttotal: 7.3s\tremaining: 4.38s\n",
      "625:\tlearn: 0.0002027\ttotal: 7.32s\tremaining: 4.37s\n",
      "626:\tlearn: 0.0002025\ttotal: 7.33s\tremaining: 4.36s\n",
      "627:\tlearn: 0.0002024\ttotal: 7.34s\tremaining: 4.35s\n",
      "628:\tlearn: 0.0002023\ttotal: 7.35s\tremaining: 4.33s\n",
      "629:\tlearn: 0.0002022\ttotal: 7.36s\tremaining: 4.32s\n",
      "630:\tlearn: 0.0002005\ttotal: 7.38s\tremaining: 4.31s\n",
      "631:\tlearn: 0.0002003\ttotal: 7.39s\tremaining: 4.3s\n",
      "632:\tlearn: 0.0002002\ttotal: 7.4s\tremaining: 4.29s\n",
      "633:\tlearn: 0.0002001\ttotal: 7.41s\tremaining: 4.28s\n",
      "634:\tlearn: 0.0002000\ttotal: 7.42s\tremaining: 4.26s\n",
      "635:\tlearn: 0.0001999\ttotal: 7.43s\tremaining: 4.25s\n",
      "636:\tlearn: 0.0001998\ttotal: 7.44s\tremaining: 4.24s\n",
      "637:\tlearn: 0.0001997\ttotal: 7.45s\tremaining: 4.23s\n",
      "638:\tlearn: 0.0001996\ttotal: 7.46s\tremaining: 4.22s\n",
      "639:\tlearn: 0.0001994\ttotal: 7.48s\tremaining: 4.21s\n",
      "640:\tlearn: 0.0001993\ttotal: 7.49s\tremaining: 4.19s\n",
      "641:\tlearn: 0.0001992\ttotal: 7.5s\tremaining: 4.18s\n",
      "642:\tlearn: 0.0001990\ttotal: 7.51s\tremaining: 4.17s\n",
      "643:\tlearn: 0.0001990\ttotal: 7.52s\tremaining: 4.16s\n",
      "644:\tlearn: 0.0001989\ttotal: 7.53s\tremaining: 4.15s\n",
      "645:\tlearn: 0.0001988\ttotal: 7.54s\tremaining: 4.13s\n",
      "646:\tlearn: 0.0001975\ttotal: 7.56s\tremaining: 4.12s\n"
     ]
    },
    {
     "name": "stdout",
     "output_type": "stream",
     "text": [
      "647:\tlearn: 0.0001957\ttotal: 7.57s\tremaining: 4.11s\n",
      "648:\tlearn: 0.0001955\ttotal: 7.58s\tremaining: 4.1s\n",
      "649:\tlearn: 0.0001954\ttotal: 7.59s\tremaining: 4.09s\n",
      "650:\tlearn: 0.0001938\ttotal: 7.61s\tremaining: 4.08s\n",
      "651:\tlearn: 0.0001927\ttotal: 7.62s\tremaining: 4.07s\n",
      "652:\tlearn: 0.0001925\ttotal: 7.63s\tremaining: 4.05s\n",
      "653:\tlearn: 0.0001909\ttotal: 7.64s\tremaining: 4.04s\n",
      "654:\tlearn: 0.0001908\ttotal: 7.65s\tremaining: 4.03s\n",
      "655:\tlearn: 0.0001907\ttotal: 7.66s\tremaining: 4.02s\n",
      "656:\tlearn: 0.0001905\ttotal: 7.67s\tremaining: 4.01s\n",
      "657:\tlearn: 0.0001905\ttotal: 7.68s\tremaining: 3.99s\n",
      "658:\tlearn: 0.0001903\ttotal: 7.7s\tremaining: 3.98s\n",
      "659:\tlearn: 0.0001902\ttotal: 7.71s\tremaining: 3.97s\n",
      "660:\tlearn: 0.0001895\ttotal: 7.72s\tremaining: 3.96s\n",
      "661:\tlearn: 0.0001894\ttotal: 7.73s\tremaining: 3.95s\n",
      "662:\tlearn: 0.0001892\ttotal: 7.74s\tremaining: 3.94s\n",
      "663:\tlearn: 0.0001887\ttotal: 7.75s\tremaining: 3.92s\n",
      "664:\tlearn: 0.0001886\ttotal: 7.76s\tremaining: 3.91s\n",
      "665:\tlearn: 0.0001885\ttotal: 7.78s\tremaining: 3.9s\n",
      "666:\tlearn: 0.0001884\ttotal: 7.79s\tremaining: 3.89s\n",
      "667:\tlearn: 0.0001882\ttotal: 7.8s\tremaining: 3.88s\n",
      "668:\tlearn: 0.0001881\ttotal: 7.81s\tremaining: 3.86s\n",
      "669:\tlearn: 0.0001880\ttotal: 7.82s\tremaining: 3.85s\n",
      "670:\tlearn: 0.0001878\ttotal: 7.83s\tremaining: 3.84s\n",
      "671:\tlearn: 0.0001877\ttotal: 7.84s\tremaining: 3.83s\n",
      "672:\tlearn: 0.0001877\ttotal: 7.85s\tremaining: 3.82s\n",
      "673:\tlearn: 0.0001876\ttotal: 7.87s\tremaining: 3.8s\n",
      "674:\tlearn: 0.0001875\ttotal: 7.88s\tremaining: 3.79s\n",
      "675:\tlearn: 0.0001874\ttotal: 7.89s\tremaining: 3.78s\n",
      "676:\tlearn: 0.0001873\ttotal: 7.9s\tremaining: 3.77s\n",
      "677:\tlearn: 0.0001872\ttotal: 7.91s\tremaining: 3.76s\n",
      "678:\tlearn: 0.0001871\ttotal: 7.92s\tremaining: 3.74s\n",
      "679:\tlearn: 0.0001870\ttotal: 7.93s\tremaining: 3.73s\n",
      "680:\tlearn: 0.0001868\ttotal: 7.94s\tremaining: 3.72s\n",
      "681:\tlearn: 0.0001853\ttotal: 7.96s\tremaining: 3.71s\n",
      "682:\tlearn: 0.0001852\ttotal: 7.97s\tremaining: 3.7s\n",
      "683:\tlearn: 0.0001850\ttotal: 7.98s\tremaining: 3.69s\n",
      "684:\tlearn: 0.0001849\ttotal: 7.99s\tremaining: 3.67s\n",
      "685:\tlearn: 0.0001848\ttotal: 8s\tremaining: 3.66s\n",
      "686:\tlearn: 0.0001847\ttotal: 8.01s\tremaining: 3.65s\n",
      "687:\tlearn: 0.0001846\ttotal: 8.02s\tremaining: 3.64s\n",
      "688:\tlearn: 0.0001845\ttotal: 8.03s\tremaining: 3.63s\n",
      "689:\tlearn: 0.0001843\ttotal: 8.04s\tremaining: 3.61s\n",
      "690:\tlearn: 0.0001842\ttotal: 8.05s\tremaining: 3.6s\n",
      "691:\tlearn: 0.0001841\ttotal: 8.06s\tremaining: 3.59s\n",
      "692:\tlearn: 0.0001831\ttotal: 8.08s\tremaining: 3.58s\n",
      "693:\tlearn: 0.0001829\ttotal: 8.09s\tremaining: 3.57s\n",
      "694:\tlearn: 0.0001828\ttotal: 8.1s\tremaining: 3.56s\n",
      "695:\tlearn: 0.0001827\ttotal: 8.11s\tremaining: 3.54s\n",
      "696:\tlearn: 0.0001827\ttotal: 8.12s\tremaining: 3.53s\n",
      "697:\tlearn: 0.0001826\ttotal: 8.13s\tremaining: 3.52s\n",
      "698:\tlearn: 0.0001825\ttotal: 8.14s\tremaining: 3.51s\n",
      "699:\tlearn: 0.0001824\ttotal: 8.15s\tremaining: 3.5s\n",
      "700:\tlearn: 0.0001813\ttotal: 8.17s\tremaining: 3.48s\n",
      "701:\tlearn: 0.0001812\ttotal: 8.18s\tremaining: 3.47s\n",
      "702:\tlearn: 0.0001796\ttotal: 8.19s\tremaining: 3.46s\n",
      "703:\tlearn: 0.0001796\ttotal: 8.2s\tremaining: 3.45s\n",
      "704:\tlearn: 0.0001795\ttotal: 8.21s\tremaining: 3.44s\n",
      "705:\tlearn: 0.0001794\ttotal: 8.22s\tremaining: 3.42s\n",
      "706:\tlearn: 0.0001784\ttotal: 8.24s\tremaining: 3.41s\n",
      "707:\tlearn: 0.0001783\ttotal: 8.25s\tremaining: 3.4s\n",
      "708:\tlearn: 0.0001782\ttotal: 8.26s\tremaining: 3.39s\n",
      "709:\tlearn: 0.0001781\ttotal: 8.27s\tremaining: 3.38s\n",
      "710:\tlearn: 0.0001771\ttotal: 8.28s\tremaining: 3.37s\n",
      "711:\tlearn: 0.0001770\ttotal: 8.29s\tremaining: 3.35s\n",
      "712:\tlearn: 0.0001769\ttotal: 8.31s\tremaining: 3.34s\n",
      "713:\tlearn: 0.0001768\ttotal: 8.32s\tremaining: 3.33s\n",
      "714:\tlearn: 0.0001767\ttotal: 8.33s\tremaining: 3.32s\n",
      "715:\tlearn: 0.0001766\ttotal: 8.34s\tremaining: 3.31s\n",
      "716:\tlearn: 0.0001765\ttotal: 8.35s\tremaining: 3.3s\n",
      "717:\tlearn: 0.0001755\ttotal: 8.36s\tremaining: 3.28s\n",
      "718:\tlearn: 0.0001754\ttotal: 8.37s\tremaining: 3.27s\n",
      "719:\tlearn: 0.0001754\ttotal: 8.39s\tremaining: 3.26s\n",
      "720:\tlearn: 0.0001753\ttotal: 8.4s\tremaining: 3.25s\n",
      "721:\tlearn: 0.0001752\ttotal: 8.41s\tremaining: 3.24s\n",
      "722:\tlearn: 0.0001751\ttotal: 8.42s\tremaining: 3.23s\n",
      "723:\tlearn: 0.0001750\ttotal: 8.43s\tremaining: 3.21s\n",
      "724:\tlearn: 0.0001737\ttotal: 8.45s\tremaining: 3.2s\n",
      "725:\tlearn: 0.0001736\ttotal: 8.46s\tremaining: 3.19s\n",
      "726:\tlearn: 0.0001726\ttotal: 8.47s\tremaining: 3.18s\n",
      "727:\tlearn: 0.0001712\ttotal: 8.48s\tremaining: 3.17s\n",
      "728:\tlearn: 0.0001711\ttotal: 8.49s\tremaining: 3.16s\n",
      "729:\tlearn: 0.0001710\ttotal: 8.5s\tremaining: 3.14s\n",
      "730:\tlearn: 0.0001710\ttotal: 8.51s\tremaining: 3.13s\n",
      "731:\tlearn: 0.0001709\ttotal: 8.52s\tremaining: 3.12s\n",
      "732:\tlearn: 0.0001709\ttotal: 8.53s\tremaining: 3.11s\n",
      "733:\tlearn: 0.0001709\ttotal: 8.54s\tremaining: 3.1s\n",
      "734:\tlearn: 0.0001708\ttotal: 8.55s\tremaining: 3.08s\n",
      "735:\tlearn: 0.0001708\ttotal: 8.56s\tremaining: 3.07s\n",
      "736:\tlearn: 0.0001707\ttotal: 8.58s\tremaining: 3.06s\n",
      "737:\tlearn: 0.0001706\ttotal: 8.59s\tremaining: 3.05s\n",
      "738:\tlearn: 0.0001705\ttotal: 8.6s\tremaining: 3.04s\n",
      "739:\tlearn: 0.0001704\ttotal: 8.62s\tremaining: 3.03s\n",
      "740:\tlearn: 0.0001704\ttotal: 8.63s\tremaining: 3.02s\n",
      "741:\tlearn: 0.0001699\ttotal: 8.64s\tremaining: 3s\n",
      "742:\tlearn: 0.0001698\ttotal: 8.65s\tremaining: 2.99s\n",
      "743:\tlearn: 0.0001697\ttotal: 8.66s\tremaining: 2.98s\n",
      "744:\tlearn: 0.0001696\ttotal: 8.67s\tremaining: 2.97s\n",
      "745:\tlearn: 0.0001696\ttotal: 8.68s\tremaining: 2.96s\n",
      "746:\tlearn: 0.0001694\ttotal: 8.69s\tremaining: 2.94s\n",
      "747:\tlearn: 0.0001693\ttotal: 8.7s\tremaining: 2.93s\n",
      "748:\tlearn: 0.0001693\ttotal: 8.71s\tremaining: 2.92s\n",
      "749:\tlearn: 0.0001684\ttotal: 8.72s\tremaining: 2.91s\n",
      "750:\tlearn: 0.0001676\ttotal: 8.73s\tremaining: 2.9s\n",
      "751:\tlearn: 0.0001675\ttotal: 8.74s\tremaining: 2.88s\n",
      "752:\tlearn: 0.0001674\ttotal: 8.75s\tremaining: 2.87s\n",
      "753:\tlearn: 0.0001674\ttotal: 8.76s\tremaining: 2.86s\n",
      "754:\tlearn: 0.0001672\ttotal: 8.77s\tremaining: 2.85s\n",
      "755:\tlearn: 0.0001672\ttotal: 8.79s\tremaining: 2.83s\n",
      "756:\tlearn: 0.0001671\ttotal: 8.8s\tremaining: 2.82s\n",
      "757:\tlearn: 0.0001670\ttotal: 8.81s\tremaining: 2.81s\n",
      "758:\tlearn: 0.0001669\ttotal: 8.82s\tremaining: 2.8s\n",
      "759:\tlearn: 0.0001661\ttotal: 8.83s\tremaining: 2.79s\n",
      "760:\tlearn: 0.0001660\ttotal: 8.85s\tremaining: 2.78s\n",
      "761:\tlearn: 0.0001659\ttotal: 8.86s\tremaining: 2.77s\n",
      "762:\tlearn: 0.0001658\ttotal: 8.87s\tremaining: 2.75s\n",
      "763:\tlearn: 0.0001657\ttotal: 8.88s\tremaining: 2.74s\n",
      "764:\tlearn: 0.0001653\ttotal: 8.89s\tremaining: 2.73s\n",
      "765:\tlearn: 0.0001652\ttotal: 8.9s\tremaining: 2.72s\n",
      "766:\tlearn: 0.0001651\ttotal: 8.91s\tremaining: 2.71s\n",
      "767:\tlearn: 0.0001650\ttotal: 8.93s\tremaining: 2.7s\n",
      "768:\tlearn: 0.0001642\ttotal: 8.94s\tremaining: 2.68s\n",
      "769:\tlearn: 0.0001641\ttotal: 8.95s\tremaining: 2.67s\n",
      "770:\tlearn: 0.0001640\ttotal: 8.96s\tremaining: 2.66s\n",
      "771:\tlearn: 0.0001639\ttotal: 8.97s\tremaining: 2.65s\n",
      "772:\tlearn: 0.0001639\ttotal: 8.98s\tremaining: 2.64s\n",
      "773:\tlearn: 0.0001631\ttotal: 8.99s\tremaining: 2.63s\n",
      "774:\tlearn: 0.0001630\ttotal: 9.01s\tremaining: 2.61s\n",
      "775:\tlearn: 0.0001629\ttotal: 9.02s\tremaining: 2.6s\n",
      "776:\tlearn: 0.0001628\ttotal: 9.03s\tremaining: 2.59s\n",
      "777:\tlearn: 0.0001615\ttotal: 9.04s\tremaining: 2.58s\n",
      "778:\tlearn: 0.0001615\ttotal: 9.06s\tremaining: 2.57s\n",
      "779:\tlearn: 0.0001614\ttotal: 9.07s\tremaining: 2.56s\n",
      "780:\tlearn: 0.0001613\ttotal: 9.08s\tremaining: 2.54s\n",
      "781:\tlearn: 0.0001612\ttotal: 9.09s\tremaining: 2.53s\n",
      "782:\tlearn: 0.0001611\ttotal: 9.1s\tremaining: 2.52s\n",
      "783:\tlearn: 0.0001611\ttotal: 9.11s\tremaining: 2.51s\n",
      "784:\tlearn: 0.0001598\ttotal: 9.12s\tremaining: 2.5s\n",
      "785:\tlearn: 0.0001597\ttotal: 9.13s\tremaining: 2.49s\n",
      "786:\tlearn: 0.0001596\ttotal: 9.14s\tremaining: 2.48s\n",
      "787:\tlearn: 0.0001595\ttotal: 9.15s\tremaining: 2.46s\n",
      "788:\tlearn: 0.0001594\ttotal: 9.17s\tremaining: 2.45s\n",
      "789:\tlearn: 0.0001594\ttotal: 9.18s\tremaining: 2.44s\n",
      "790:\tlearn: 0.0001593\ttotal: 9.19s\tremaining: 2.43s\n",
      "791:\tlearn: 0.0001592\ttotal: 9.2s\tremaining: 2.42s\n",
      "792:\tlearn: 0.0001591\ttotal: 9.21s\tremaining: 2.4s\n",
      "793:\tlearn: 0.0001590\ttotal: 9.22s\tremaining: 2.39s\n",
      "794:\tlearn: 0.0001589\ttotal: 9.23s\tremaining: 2.38s\n",
      "795:\tlearn: 0.0001584\ttotal: 9.24s\tremaining: 2.37s\n",
      "796:\tlearn: 0.0001572\ttotal: 9.26s\tremaining: 2.36s\n",
      "797:\tlearn: 0.0001572\ttotal: 9.27s\tremaining: 2.35s\n",
      "798:\tlearn: 0.0001571\ttotal: 9.28s\tremaining: 2.33s\n",
      "799:\tlearn: 0.0001570\ttotal: 9.29s\tremaining: 2.32s\n",
      "800:\tlearn: 0.0001570\ttotal: 9.3s\tremaining: 2.31s\n",
      "801:\tlearn: 0.0001558\ttotal: 9.31s\tremaining: 2.3s\n",
      "802:\tlearn: 0.0001557\ttotal: 9.32s\tremaining: 2.29s\n",
      "803:\tlearn: 0.0001556\ttotal: 9.34s\tremaining: 2.28s\n",
      "804:\tlearn: 0.0001555\ttotal: 9.35s\tremaining: 2.26s\n",
      "805:\tlearn: 0.0001554\ttotal: 9.36s\tremaining: 2.25s\n",
      "806:\tlearn: 0.0001554\ttotal: 9.37s\tremaining: 2.24s\n",
      "807:\tlearn: 0.0001543\ttotal: 9.38s\tremaining: 2.23s\n",
      "808:\tlearn: 0.0001535\ttotal: 9.39s\tremaining: 2.22s\n",
      "809:\tlearn: 0.0001535\ttotal: 9.41s\tremaining: 2.21s\n"
     ]
    },
    {
     "name": "stdout",
     "output_type": "stream",
     "text": [
      "810:\tlearn: 0.0001534\ttotal: 9.42s\tremaining: 2.19s\n",
      "811:\tlearn: 0.0001533\ttotal: 9.43s\tremaining: 2.18s\n",
      "812:\tlearn: 0.0001532\ttotal: 9.45s\tremaining: 2.17s\n",
      "813:\tlearn: 0.0001525\ttotal: 9.46s\tremaining: 2.16s\n",
      "814:\tlearn: 0.0001524\ttotal: 9.47s\tremaining: 2.15s\n",
      "815:\tlearn: 0.0001524\ttotal: 9.48s\tremaining: 2.14s\n",
      "816:\tlearn: 0.0001523\ttotal: 9.49s\tremaining: 2.13s\n",
      "817:\tlearn: 0.0001523\ttotal: 9.5s\tremaining: 2.11s\n",
      "818:\tlearn: 0.0001522\ttotal: 9.51s\tremaining: 2.1s\n",
      "819:\tlearn: 0.0001521\ttotal: 9.52s\tremaining: 2.09s\n",
      "820:\tlearn: 0.0001521\ttotal: 9.53s\tremaining: 2.08s\n",
      "821:\tlearn: 0.0001520\ttotal: 9.54s\tremaining: 2.07s\n",
      "822:\tlearn: 0.0001519\ttotal: 9.55s\tremaining: 2.05s\n",
      "823:\tlearn: 0.0001519\ttotal: 9.56s\tremaining: 2.04s\n",
      "824:\tlearn: 0.0001518\ttotal: 9.57s\tremaining: 2.03s\n",
      "825:\tlearn: 0.0001517\ttotal: 9.59s\tremaining: 2.02s\n",
      "826:\tlearn: 0.0001517\ttotal: 9.6s\tremaining: 2.01s\n",
      "827:\tlearn: 0.0001516\ttotal: 9.61s\tremaining: 2s\n",
      "828:\tlearn: 0.0001516\ttotal: 9.62s\tremaining: 1.98s\n",
      "829:\tlearn: 0.0001515\ttotal: 9.63s\tremaining: 1.97s\n",
      "830:\tlearn: 0.0001513\ttotal: 9.64s\tremaining: 1.96s\n",
      "831:\tlearn: 0.0001510\ttotal: 9.66s\tremaining: 1.95s\n",
      "832:\tlearn: 0.0001510\ttotal: 9.67s\tremaining: 1.94s\n",
      "833:\tlearn: 0.0001509\ttotal: 9.68s\tremaining: 1.93s\n",
      "834:\tlearn: 0.0001509\ttotal: 9.69s\tremaining: 1.91s\n",
      "835:\tlearn: 0.0001508\ttotal: 9.7s\tremaining: 1.9s\n",
      "836:\tlearn: 0.0001508\ttotal: 9.71s\tremaining: 1.89s\n",
      "837:\tlearn: 0.0001507\ttotal: 9.72s\tremaining: 1.88s\n",
      "838:\tlearn: 0.0001507\ttotal: 9.73s\tremaining: 1.87s\n",
      "839:\tlearn: 0.0001506\ttotal: 9.74s\tremaining: 1.86s\n",
      "840:\tlearn: 0.0001506\ttotal: 9.75s\tremaining: 1.84s\n",
      "841:\tlearn: 0.0001505\ttotal: 9.76s\tremaining: 1.83s\n",
      "842:\tlearn: 0.0001504\ttotal: 9.78s\tremaining: 1.82s\n",
      "843:\tlearn: 0.0001503\ttotal: 9.79s\tremaining: 1.81s\n",
      "844:\tlearn: 0.0001503\ttotal: 9.79s\tremaining: 1.8s\n",
      "845:\tlearn: 0.0001502\ttotal: 9.81s\tremaining: 1.78s\n",
      "846:\tlearn: 0.0001502\ttotal: 9.82s\tremaining: 1.77s\n",
      "847:\tlearn: 0.0001501\ttotal: 9.83s\tremaining: 1.76s\n",
      "848:\tlearn: 0.0001500\ttotal: 9.84s\tremaining: 1.75s\n",
      "849:\tlearn: 0.0001500\ttotal: 9.85s\tremaining: 1.74s\n",
      "850:\tlearn: 0.0001499\ttotal: 9.87s\tremaining: 1.73s\n",
      "851:\tlearn: 0.0001498\ttotal: 9.88s\tremaining: 1.72s\n",
      "852:\tlearn: 0.0001498\ttotal: 9.89s\tremaining: 1.7s\n",
      "853:\tlearn: 0.0001497\ttotal: 9.9s\tremaining: 1.69s\n",
      "854:\tlearn: 0.0001490\ttotal: 9.91s\tremaining: 1.68s\n",
      "855:\tlearn: 0.0001483\ttotal: 9.92s\tremaining: 1.67s\n",
      "856:\tlearn: 0.0001478\ttotal: 9.93s\tremaining: 1.66s\n",
      "857:\tlearn: 0.0001471\ttotal: 9.94s\tremaining: 1.65s\n",
      "858:\tlearn: 0.0001464\ttotal: 9.96s\tremaining: 1.63s\n",
      "859:\tlearn: 0.0001464\ttotal: 9.97s\tremaining: 1.62s\n",
      "860:\tlearn: 0.0001463\ttotal: 9.98s\tremaining: 1.61s\n",
      "861:\tlearn: 0.0001462\ttotal: 9.99s\tremaining: 1.6s\n",
      "862:\tlearn: 0.0001462\ttotal: 10s\tremaining: 1.59s\n",
      "863:\tlearn: 0.0001461\ttotal: 10s\tremaining: 1.57s\n",
      "864:\tlearn: 0.0001461\ttotal: 10s\tremaining: 1.56s\n",
      "865:\tlearn: 0.0001460\ttotal: 10s\tremaining: 1.55s\n",
      "866:\tlearn: 0.0001459\ttotal: 10s\tremaining: 1.54s\n",
      "867:\tlearn: 0.0001459\ttotal: 10.1s\tremaining: 1.53s\n",
      "868:\tlearn: 0.0001454\ttotal: 10.1s\tremaining: 1.52s\n",
      "869:\tlearn: 0.0001448\ttotal: 10.1s\tremaining: 1.51s\n",
      "870:\tlearn: 0.0001447\ttotal: 10.1s\tremaining: 1.5s\n",
      "871:\tlearn: 0.0001447\ttotal: 10.1s\tremaining: 1.48s\n",
      "872:\tlearn: 0.0001446\ttotal: 10.1s\tremaining: 1.47s\n",
      "873:\tlearn: 0.0001446\ttotal: 10.1s\tremaining: 1.46s\n",
      "874:\tlearn: 0.0001444\ttotal: 10.1s\tremaining: 1.45s\n",
      "875:\tlearn: 0.0001434\ttotal: 10.2s\tremaining: 1.44s\n",
      "876:\tlearn: 0.0001433\ttotal: 10.2s\tremaining: 1.43s\n",
      "877:\tlearn: 0.0001432\ttotal: 10.2s\tremaining: 1.41s\n",
      "878:\tlearn: 0.0001432\ttotal: 10.2s\tremaining: 1.4s\n",
      "879:\tlearn: 0.0001431\ttotal: 10.2s\tremaining: 1.39s\n",
      "880:\tlearn: 0.0001431\ttotal: 10.2s\tremaining: 1.38s\n",
      "881:\tlearn: 0.0001430\ttotal: 10.2s\tremaining: 1.37s\n",
      "882:\tlearn: 0.0001430\ttotal: 10.2s\tremaining: 1.35s\n",
      "883:\tlearn: 0.0001430\ttotal: 10.2s\tremaining: 1.34s\n",
      "884:\tlearn: 0.0001423\ttotal: 10.3s\tremaining: 1.33s\n",
      "885:\tlearn: 0.0001423\ttotal: 10.3s\tremaining: 1.32s\n",
      "886:\tlearn: 0.0001422\ttotal: 10.3s\tremaining: 1.31s\n",
      "887:\tlearn: 0.0001422\ttotal: 10.3s\tremaining: 1.3s\n",
      "888:\tlearn: 0.0001421\ttotal: 10.3s\tremaining: 1.29s\n",
      "889:\tlearn: 0.0001411\ttotal: 10.3s\tremaining: 1.27s\n",
      "890:\tlearn: 0.0001411\ttotal: 10.3s\tremaining: 1.26s\n",
      "891:\tlearn: 0.0001410\ttotal: 10.3s\tremaining: 1.25s\n",
      "892:\tlearn: 0.0001409\ttotal: 10.4s\tremaining: 1.24s\n",
      "893:\tlearn: 0.0001403\ttotal: 10.4s\tremaining: 1.23s\n",
      "894:\tlearn: 0.0001403\ttotal: 10.4s\tremaining: 1.22s\n",
      "895:\tlearn: 0.0001402\ttotal: 10.4s\tremaining: 1.21s\n",
      "896:\tlearn: 0.0001401\ttotal: 10.4s\tremaining: 1.19s\n",
      "897:\tlearn: 0.0001400\ttotal: 10.4s\tremaining: 1.18s\n",
      "898:\tlearn: 0.0001399\ttotal: 10.4s\tremaining: 1.17s\n",
      "899:\tlearn: 0.0001399\ttotal: 10.4s\tremaining: 1.16s\n",
      "900:\tlearn: 0.0001392\ttotal: 10.4s\tremaining: 1.15s\n",
      "901:\tlearn: 0.0001392\ttotal: 10.5s\tremaining: 1.14s\n",
      "902:\tlearn: 0.0001391\ttotal: 10.5s\tremaining: 1.13s\n",
      "903:\tlearn: 0.0001391\ttotal: 10.5s\tremaining: 1.11s\n",
      "904:\tlearn: 0.0001390\ttotal: 10.5s\tremaining: 1.1s\n",
      "905:\tlearn: 0.0001381\ttotal: 10.5s\tremaining: 1.09s\n",
      "906:\tlearn: 0.0001381\ttotal: 10.5s\tremaining: 1.08s\n",
      "907:\tlearn: 0.0001380\ttotal: 10.5s\tremaining: 1.07s\n",
      "908:\tlearn: 0.0001372\ttotal: 10.5s\tremaining: 1.05s\n",
      "909:\tlearn: 0.0001371\ttotal: 10.6s\tremaining: 1.04s\n",
      "910:\tlearn: 0.0001371\ttotal: 10.6s\tremaining: 1.03s\n",
      "911:\tlearn: 0.0001370\ttotal: 10.6s\tremaining: 1.02s\n",
      "912:\tlearn: 0.0001370\ttotal: 10.6s\tremaining: 1.01s\n",
      "913:\tlearn: 0.0001369\ttotal: 10.6s\tremaining: 997ms\n",
      "914:\tlearn: 0.0001359\ttotal: 10.6s\tremaining: 986ms\n",
      "915:\tlearn: 0.0001353\ttotal: 10.6s\tremaining: 974ms\n",
      "916:\tlearn: 0.0001353\ttotal: 10.6s\tremaining: 963ms\n",
      "917:\tlearn: 0.0001353\ttotal: 10.6s\tremaining: 951ms\n",
      "918:\tlearn: 0.0001352\ttotal: 10.7s\tremaining: 939ms\n",
      "919:\tlearn: 0.0001352\ttotal: 10.7s\tremaining: 928ms\n",
      "920:\tlearn: 0.0001351\ttotal: 10.7s\tremaining: 916ms\n",
      "921:\tlearn: 0.0001351\ttotal: 10.7s\tremaining: 905ms\n",
      "922:\tlearn: 0.0001342\ttotal: 10.7s\tremaining: 893ms\n",
      "923:\tlearn: 0.0001342\ttotal: 10.7s\tremaining: 881ms\n",
      "924:\tlearn: 0.0001341\ttotal: 10.7s\tremaining: 870ms\n",
      "925:\tlearn: 0.0001341\ttotal: 10.7s\tremaining: 858ms\n",
      "926:\tlearn: 0.0001340\ttotal: 10.7s\tremaining: 846ms\n",
      "927:\tlearn: 0.0001339\ttotal: 10.8s\tremaining: 835ms\n",
      "928:\tlearn: 0.0001339\ttotal: 10.8s\tremaining: 823ms\n",
      "929:\tlearn: 0.0001336\ttotal: 10.8s\tremaining: 811ms\n",
      "930:\tlearn: 0.0001336\ttotal: 10.8s\tremaining: 800ms\n",
      "931:\tlearn: 0.0001335\ttotal: 10.8s\tremaining: 788ms\n",
      "932:\tlearn: 0.0001335\ttotal: 10.8s\tremaining: 777ms\n",
      "933:\tlearn: 0.0001334\ttotal: 10.8s\tremaining: 765ms\n",
      "934:\tlearn: 0.0001334\ttotal: 10.8s\tremaining: 753ms\n",
      "935:\tlearn: 0.0001333\ttotal: 10.8s\tremaining: 742ms\n",
      "936:\tlearn: 0.0001333\ttotal: 10.9s\tremaining: 730ms\n",
      "937:\tlearn: 0.0001332\ttotal: 10.9s\tremaining: 719ms\n",
      "938:\tlearn: 0.0001332\ttotal: 10.9s\tremaining: 707ms\n",
      "939:\tlearn: 0.0001331\ttotal: 10.9s\tremaining: 696ms\n",
      "940:\tlearn: 0.0001330\ttotal: 10.9s\tremaining: 684ms\n",
      "941:\tlearn: 0.0001327\ttotal: 10.9s\tremaining: 672ms\n",
      "942:\tlearn: 0.0001327\ttotal: 10.9s\tremaining: 661ms\n",
      "943:\tlearn: 0.0001326\ttotal: 10.9s\tremaining: 649ms\n",
      "944:\tlearn: 0.0001326\ttotal: 11s\tremaining: 637ms\n",
      "945:\tlearn: 0.0001325\ttotal: 11s\tremaining: 626ms\n",
      "946:\tlearn: 0.0001321\ttotal: 11s\tremaining: 614ms\n",
      "947:\tlearn: 0.0001320\ttotal: 11s\tremaining: 603ms\n",
      "948:\tlearn: 0.0001320\ttotal: 11s\tremaining: 591ms\n",
      "949:\tlearn: 0.0001311\ttotal: 11s\tremaining: 580ms\n",
      "950:\tlearn: 0.0001311\ttotal: 11s\tremaining: 568ms\n",
      "951:\tlearn: 0.0001310\ttotal: 11s\tremaining: 556ms\n",
      "952:\tlearn: 0.0001310\ttotal: 11s\tremaining: 545ms\n",
      "953:\tlearn: 0.0001309\ttotal: 11.1s\tremaining: 533ms\n",
      "954:\tlearn: 0.0001300\ttotal: 11.1s\tremaining: 522ms\n",
      "955:\tlearn: 0.0001300\ttotal: 11.1s\tremaining: 510ms\n",
      "956:\tlearn: 0.0001300\ttotal: 11.1s\tremaining: 498ms\n",
      "957:\tlearn: 0.0001298\ttotal: 11.1s\tremaining: 487ms\n",
      "958:\tlearn: 0.0001293\ttotal: 11.1s\tremaining: 475ms\n",
      "959:\tlearn: 0.0001292\ttotal: 11.1s\tremaining: 464ms\n",
      "960:\tlearn: 0.0001292\ttotal: 11.1s\tremaining: 452ms\n",
      "961:\tlearn: 0.0001292\ttotal: 11.1s\tremaining: 440ms\n",
      "962:\tlearn: 0.0001291\ttotal: 11.2s\tremaining: 429ms\n",
      "963:\tlearn: 0.0001291\ttotal: 11.2s\tremaining: 417ms\n",
      "964:\tlearn: 0.0001290\ttotal: 11.2s\tremaining: 406ms\n",
      "965:\tlearn: 0.0001290\ttotal: 11.2s\tremaining: 394ms\n",
      "966:\tlearn: 0.0001285\ttotal: 11.2s\tremaining: 382ms\n",
      "967:\tlearn: 0.0001285\ttotal: 11.2s\tremaining: 371ms\n",
      "968:\tlearn: 0.0001279\ttotal: 11.2s\tremaining: 359ms\n",
      "969:\tlearn: 0.0001279\ttotal: 11.2s\tremaining: 348ms\n",
      "970:\tlearn: 0.0001274\ttotal: 11.3s\tremaining: 336ms\n",
      "971:\tlearn: 0.0001273\ttotal: 11.3s\tremaining: 324ms\n"
     ]
    },
    {
     "name": "stdout",
     "output_type": "stream",
     "text": [
      "972:\tlearn: 0.0001268\ttotal: 11.3s\tremaining: 313ms\n",
      "973:\tlearn: 0.0001268\ttotal: 11.3s\tremaining: 301ms\n",
      "974:\tlearn: 0.0001265\ttotal: 11.3s\tremaining: 290ms\n",
      "975:\tlearn: 0.0001265\ttotal: 11.3s\tremaining: 278ms\n",
      "976:\tlearn: 0.0001265\ttotal: 11.3s\tremaining: 267ms\n",
      "977:\tlearn: 0.0001264\ttotal: 11.3s\tremaining: 255ms\n",
      "978:\tlearn: 0.0001259\ttotal: 11.3s\tremaining: 243ms\n",
      "979:\tlearn: 0.0001259\ttotal: 11.4s\tremaining: 232ms\n",
      "980:\tlearn: 0.0001258\ttotal: 11.4s\tremaining: 220ms\n",
      "981:\tlearn: 0.0001258\ttotal: 11.4s\tremaining: 209ms\n",
      "982:\tlearn: 0.0001257\ttotal: 11.4s\tremaining: 197ms\n",
      "983:\tlearn: 0.0001256\ttotal: 11.4s\tremaining: 185ms\n",
      "984:\tlearn: 0.0001251\ttotal: 11.4s\tremaining: 174ms\n",
      "985:\tlearn: 0.0001251\ttotal: 11.4s\tremaining: 162ms\n",
      "986:\tlearn: 0.0001250\ttotal: 11.4s\tremaining: 151ms\n",
      "987:\tlearn: 0.0001250\ttotal: 11.4s\tremaining: 139ms\n",
      "988:\tlearn: 0.0001250\ttotal: 11.5s\tremaining: 127ms\n",
      "989:\tlearn: 0.0001249\ttotal: 11.5s\tremaining: 116ms\n",
      "990:\tlearn: 0.0001249\ttotal: 11.5s\tremaining: 104ms\n",
      "991:\tlearn: 0.0001246\ttotal: 11.5s\tremaining: 92.6ms\n",
      "992:\tlearn: 0.0001241\ttotal: 11.5s\tremaining: 81.1ms\n",
      "993:\tlearn: 0.0001241\ttotal: 11.5s\tremaining: 69.5ms\n",
      "994:\tlearn: 0.0001234\ttotal: 11.5s\tremaining: 57.9ms\n",
      "995:\tlearn: 0.0001233\ttotal: 11.5s\tremaining: 46.3ms\n",
      "996:\tlearn: 0.0001233\ttotal: 11.5s\tremaining: 34.7ms\n",
      "997:\tlearn: 0.0001232\ttotal: 11.6s\tremaining: 23.2ms\n",
      "998:\tlearn: 0.0001232\ttotal: 11.6s\tremaining: 11.6ms\n",
      "999:\tlearn: 0.0001227\ttotal: 11.6s\tremaining: 0us\n"
     ]
    },
    {
     "data": {
      "text/plain": [
       "<catboost.core.CatBoostClassifier at 0x7f3e99b64c10>"
      ]
     },
     "execution_count": 54,
     "metadata": {},
     "output_type": "execute_result"
    }
   ],
   "source": [
    "# importing the CatBoot classifier\n",
    "from catboost import CatBoostClassifier\n",
    "\n",
    "# initializing the CatBoost classifier\n",
    "CatBoost_clf = CatBoostClassifier()\n",
    "\n",
    "# training the catboost classifier model\n",
    "CatBoost_clf.fit(X_train, y_train)"
   ]
  },
  {
   "cell_type": "code",
   "execution_count": 55,
   "id": "e62e22c7",
   "metadata": {},
   "outputs": [],
   "source": [
    "# making predictions\n",
    "catboost_pred = CatBoost_clf.predict(X_test)"
   ]
  },
  {
   "cell_type": "code",
   "execution_count": 56,
   "id": "7974a73e",
   "metadata": {},
   "outputs": [
    {
     "data": {
      "image/png": "[encoded data removed]",
      "text/plain": [
       "<Figure size 640x480 with 2 Axes>"
      ]
     },
     "metadata": {},
     "output_type": "display_data"
    }
   ],
   "source": [
    "# importing modules\n",
    "import matplotlib.pyplot as plt\n",
    "from sklearn.metrics import confusion_matrix, ConfusionMatrixDisplay\n",
    "\n",
    "# <a href=\"https://techfor-today.com/sklearn-confusion-matrix-in-machine-learning/\">confusion matrix</a> plotting\n",
    "cm = confusion_matrix(y_test, catboost_pred, labels=CatBoost_clf.classes_)\n",
    "\n",
    "# labelling\n",
    "disp = ConfusionMatrixDisplay(confusion_matrix=cm, display_labels=CatBoost_clf.classes_)\n",
    "disp.plot()\n",
    "plt.show()"
   ]
  },
  {
   "cell_type": "code",
   "execution_count": 57,
   "id": "e8324aa4",
   "metadata": {},
   "outputs": [
    {
     "name": "stdout",
     "output_type": "stream",
     "text": [
      "The accuracy is:  0.9995998399359743\n"
     ]
    }
   ],
   "source": [
    "# importing the module\n",
    "from sklearn.metrics import accuracy_score\n",
    "\n",
    "# printing\n",
    "print(\"The accuracy is: \", accuracy_score(y_test, catboost_pred))"
   ]
  },
  {
   "cell_type": "code",
   "execution_count": 58,
   "id": "974df60a",
   "metadata": {},
   "outputs": [
    {
     "name": "stdout",
     "output_type": "stream",
     "text": [
      "              precision    recall  f1-score   support\n",
      "\n",
      "           0       1.00      1.00      1.00      3181\n",
      "           1       1.00      1.00      1.00       111\n",
      "           2       1.00      1.00      1.00      4420\n",
      "           3       1.00      1.00      1.00      1005\n",
      "           4       1.00      1.00      1.00      1048\n",
      "           5       0.98      1.00      0.99       231\n",
      "\n",
      "    accuracy                           1.00      9996\n",
      "   macro avg       1.00      1.00      1.00      9996\n",
      "weighted avg       1.00      1.00      1.00      9996\n",
      "\n"
     ]
    }
   ],
   "source": [
    "from sklearn.metrics import classification_report\n",
    "print(classification_report(y_test, catboost_pred))\n"
   ]
  },
  {
   "cell_type": "code",
   "execution_count": 59,
   "id": "6b1859e3",
   "metadata": {},
   "outputs": [],
   "source": [
    "catboost_pred_train = CatBoost_clf.predict(X_train)"
   ]
  },
  {
   "cell_type": "code",
   "execution_count": 60,
   "id": "17ab3450",
   "metadata": {},
   "outputs": [
    {
     "data": {
      "image/png": "[encoded data removed]",
      "text/plain": [
       "<Figure size 640x480 with 2 Axes>"
      ]
     },
     "metadata": {},
     "output_type": "display_data"
    }
   ],
   "source": [
    "cm = confusion_matrix(y_train, catboost_pred_train, labels=CatBoost_clf.classes_)\n",
    "\n",
    "# labelling\n",
    "disp = ConfusionMatrixDisplay(confusion_matrix=cm, display_labels=CatBoost_clf.classes_)\n",
    "disp.plot()\n",
    "plt.show()"
   ]
  },
  {
   "cell_type": "code",
   "execution_count": 61,
   "id": "c5c59329",
   "metadata": {},
   "outputs": [
    {
     "name": "stdout",
     "output_type": "stream",
     "text": [
      "The accuracy is:  1.0\n"
     ]
    }
   ],
   "source": [
    "# printing\n",
    "print(\"The accuracy is: \", accuracy_score(y_train, catboost_pred_train))"
   ]
  },
  {
   "cell_type": "code",
   "execution_count": 62,
   "id": "feef3b99",
   "metadata": {},
   "outputs": [
    {
     "name": "stdout",
     "output_type": "stream",
     "text": [
      "              precision    recall  f1-score   support\n",
      "\n",
      "           0       1.00      1.00      1.00      7219\n",
      "           1       1.00      1.00      1.00       276\n",
      "           2       1.00      1.00      1.00     10426\n",
      "           3       1.00      1.00      1.00      2375\n",
      "           4       1.00      1.00      1.00      2434\n",
      "           5       1.00      1.00      1.00       592\n",
      "\n",
      "    accuracy                           1.00     23322\n",
      "   macro avg       1.00      1.00      1.00     23322\n",
      "weighted avg       1.00      1.00      1.00     23322\n",
      "\n"
     ]
    }
   ],
   "source": [
    "print(classification_report(y_train, catboost_pred_train))"
   ]
  },
  {
   "cell_type": "code",
   "execution_count": 63,
   "id": "612de582",
   "metadata": {},
   "outputs": [],
   "source": [
    "import pickle\n",
    "pickle.dump(CatBoost_clf, open('CatBoost', 'wb'))"
   ]
  },
  {
   "cell_type": "code",
   "execution_count": null,
   "id": "4d4d31cd",
   "metadata": {},
   "outputs": [],
   "source": []
  },
  {
   "cell_type": "code",
   "execution_count": null,
   "id": "38759a69",
   "metadata": {},
   "outputs": [],
   "source": []
  },
  {
   "cell_type": "code",
   "execution_count": null,
   "id": "089fc1c3",
   "metadata": {},
   "outputs": [],
   "source": []
  },
  {
   "cell_type": "code",
   "execution_count": null,
   "id": "79991cb8",
   "metadata": {},
   "outputs": [],
   "source": []
  },
  {
   "cell_type": "code",
   "execution_count": null,
   "id": "ce515ce3",
   "metadata": {},
   "outputs": [],
   "source": []
  },
  {
   "cell_type": "code",
   "execution_count": 64,
   "id": "afc30e12",
   "metadata": {},
   "outputs": [
    {
     "data": {
      "text/html": [
       "<style>#sk-container-id-3 {color: black;background-color: white;}#sk-container-id-3 pre{padding: 0;}#sk-container-id-3 div.sk-toggleable {background-color: white;}#sk-container-id-3 label.sk-toggleable__label {cursor: pointer;display: block;width: 100%;margin-bottom: 0;padding: 0.3em;box-sizing: border-box;text-align: center;}#sk-container-id-3 label.sk-toggleable__label-arrow:before {content: \"▸\";float: left;margin-right: 0.25em;color: #696969;}#sk-container-id-3 label.sk-toggleable__label-arrow:hover:before {color: black;}#sk-container-id-3 div.sk-estimator:hover label.sk-toggleable__label-arrow:before {color: black;}#sk-container-id-3 div.sk-toggleable__content {max-height: 0;max-width: 0;overflow: hidden;text-align: left;background-color: #f0f8ff;}#sk-container-id-3 div.sk-toggleable__content pre {margin: 0.2em;color: black;border-radius: 0.25em;background-color: #f0f8ff;}#sk-container-id-3 input.sk-toggleable__control:checked~div.sk-toggleable__content {max-height: 200px;max-width: 100%;overflow: auto;}#sk-container-id-3 input.sk-toggleable__control:checked~label.sk-toggleable__label-arrow:before {content: \"▾\";}#sk-container-id-3 div.sk-estimator input.sk-toggleable__control:checked~label.sk-toggleable__label {background-color: #d4ebff;}#sk-container-id-3 div.sk-label input.sk-toggleable__control:checked~label.sk-toggleable__label {background-color: #d4ebff;}#sk-container-id-3 input.sk-hidden--visually {border: 0;clip: rect(1px 1px 1px 1px);clip: rect(1px, 1px, 1px, 1px);height: 1px;margin: -1px;overflow: hidden;padding: 0;position: absolute;width: 1px;}#sk-container-id-3 div.sk-estimator {font-family: monospace;background-color: #f0f8ff;border: 1px dotted black;border-radius: 0.25em;box-sizing: border-box;margin-bottom: 0.5em;}#sk-container-id-3 div.sk-estimator:hover {background-color: #d4ebff;}#sk-container-id-3 div.sk-parallel-item::after {content: \"\";width: 100%;border-bottom: 1px solid gray;flex-grow: 1;}#sk-container-id-3 div.sk-label:hover label.sk-toggleable__label {background-color: #d4ebff;}#sk-container-id-3 div.sk-serial::before {content: \"\";position: absolute;border-left: 1px solid gray;box-sizing: border-box;top: 0;bottom: 0;left: 50%;z-index: 0;}#sk-container-id-3 div.sk-serial {display: flex;flex-direction: column;align-items: center;background-color: white;padding-right: 0.2em;padding-left: 0.2em;position: relative;}#sk-container-id-3 div.sk-item {position: relative;z-index: 1;}#sk-container-id-3 div.sk-parallel {display: flex;align-items: stretch;justify-content: center;background-color: white;position: relative;}#sk-container-id-3 div.sk-item::before, #sk-container-id-3 div.sk-parallel-item::before {content: \"\";position: absolute;border-left: 1px solid gray;box-sizing: border-box;top: 0;bottom: 0;left: 50%;z-index: -1;}#sk-container-id-3 div.sk-parallel-item {display: flex;flex-direction: column;z-index: 1;position: relative;background-color: white;}#sk-container-id-3 div.sk-parallel-item:first-child::after {align-self: flex-end;width: 50%;}#sk-container-id-3 div.sk-parallel-item:last-child::after {align-self: flex-start;width: 50%;}#sk-container-id-3 div.sk-parallel-item:only-child::after {width: 0;}#sk-container-id-3 div.sk-dashed-wrapped {border: 1px dashed gray;margin: 0 0.4em 0.5em 0.4em;box-sizing: border-box;padding-bottom: 0.4em;background-color: white;}#sk-container-id-3 div.sk-label label {font-family: monospace;font-weight: bold;display: inline-block;line-height: 1.2em;}#sk-container-id-3 div.sk-label-container {text-align: center;}#sk-container-id-3 div.sk-container {/* jupyter's `normalize.less` sets `[hidden] { display: none; }` but bootstrap.min.css set `[hidden] { display: none !important; }` so we also need the `!important` here to be able to override the default hidden behavior on the sphinx rendered scikit-learn.org. See: https://github.com/scikit-learn/scikit-learn/issues/21755 */display: inline-block !important;position: relative;}#sk-container-id-3 div.sk-text-repr-fallback {display: none;}</style><div id=\"sk-container-id-3\" class=\"sk-top-container\"><div class=\"sk-text-repr-fallback\"><pre>LGBMClassifier()</pre><b>In a Jupyter environment, please rerun this cell to show the HTML representation or trust the notebook. <br />On GitHub, the HTML representation is unable to render, please try loading this page with nbviewer.org.</b></div><div class=\"sk-container\" hidden><div class=\"sk-item\"><div class=\"sk-estimator sk-toggleable\"><input class=\"sk-toggleable__control sk-hidden--visually\" id=\"sk-estimator-id-3\" type=\"checkbox\" checked><label for=\"sk-estimator-id-3\" class=\"sk-toggleable__label sk-toggleable__label-arrow\">LGBMClassifier</label><div class=\"sk-toggleable__content\"><pre>LGBMClassifier()</pre></div></div></div></div></div>"
      ],
      "text/plain": [
       "LGBMClassifier()"
      ]
     },
     "execution_count": 64,
     "metadata": {},
     "output_type": "execute_result"
    }
   ],
   "source": [
    "# importing the lightgbm module\n",
    "import lightgbm as lgb\n",
    "\n",
    "# initializing the model\n",
    "model_Clf = lgb.LGBMClassifier()\n",
    "\n",
    "# training the model\n",
    "model_Clf.fit(X_train, y_train)"
   ]
  },
  {
   "cell_type": "code",
   "execution_count": 65,
   "id": "09dd650b",
   "metadata": {},
   "outputs": [],
   "source": [
    "# making prediction \n",
    "clf_pred = model_Clf.predict(X_test)\n",
    "clf_pred_train= model_Clf.predict(X_train)"
   ]
  },
  {
   "cell_type": "code",
   "execution_count": 66,
   "id": "3113d0b1",
   "metadata": {},
   "outputs": [
    {
     "data": {
      "image/png": "[encoded data removed]",
      "text/plain": [
       "<Figure size 640x480 with 2 Axes>"
      ]
     },
     "metadata": {},
     "output_type": "display_data"
    }
   ],
   "source": [
    "# importing modules\n",
    "import matplotlib.pyplot as plt\n",
    "from sklearn.metrics import confusion_matrix, ConfusionMatrixDisplay\n",
    "\n",
    "# confusion matrix plotting\n",
    "cm = confusion_matrix(y_test, clf_pred, labels=model_Clf.classes_)\n",
    "\n",
    "# labelling\n",
    "disp = ConfusionMatrixDisplay(confusion_matrix=cm, display_labels=model_Clf.classes_)\n",
    "disp.plot()\n",
    "plt.show()"
   ]
  },
  {
   "cell_type": "code",
   "execution_count": 67,
   "id": "6a14a24e",
   "metadata": {},
   "outputs": [
    {
     "name": "stdout",
     "output_type": "stream",
     "text": [
      "The accuracy is:  0.9995998399359743\n"
     ]
    }
   ],
   "source": [
    "# importing the module\n",
    "from sklearn.metrics import accuracy_score\n",
    "\n",
    "# printing\n",
    "print(\"The accuracy is: \", accuracy_score(y_test, clf_pred))"
   ]
  },
  {
   "cell_type": "code",
   "execution_count": 68,
   "id": "34d4aaa6",
   "metadata": {},
   "outputs": [
    {
     "name": "stdout",
     "output_type": "stream",
     "text": [
      "              precision    recall  f1-score   support\n",
      "\n",
      "           0       1.00      1.00      1.00      3181\n",
      "           1       1.00      1.00      1.00       111\n",
      "           2       1.00      1.00      1.00      4420\n",
      "           3       1.00      1.00      1.00      1005\n",
      "           4       1.00      1.00      1.00      1048\n",
      "           5       0.98      1.00      0.99       231\n",
      "\n",
      "    accuracy                           1.00      9996\n",
      "   macro avg       1.00      1.00      1.00      9996\n",
      "weighted avg       1.00      1.00      1.00      9996\n",
      "\n"
     ]
    }
   ],
   "source": [
    "print(classification_report(y_test, clf_pred))"
   ]
  },
  {
   "cell_type": "code",
   "execution_count": 69,
   "id": "a494dc5d",
   "metadata": {},
   "outputs": [
    {
     "data": {
      "image/png": "[encoded data removed]",
      "text/plain": [
       "<Figure size 640x480 with 2 Axes>"
      ]
     },
     "metadata": {},
     "output_type": "display_data"
    }
   ],
   "source": [
    "cm = confusion_matrix(y_train, clf_pred_train, labels=CatBoost_clf.classes_)\n",
    "\n",
    "# labelling\n",
    "disp = ConfusionMatrixDisplay(confusion_matrix=cm, display_labels=CatBoost_clf.classes_)\n",
    "disp.plot()\n",
    "plt.show()"
   ]
  },
  {
   "cell_type": "code",
   "execution_count": 70,
   "id": "799d137e",
   "metadata": {},
   "outputs": [
    {
     "name": "stdout",
     "output_type": "stream",
     "text": [
      "The accuracy is:  1.0\n",
      "              precision    recall  f1-score   support\n",
      "\n",
      "           0       1.00      1.00      1.00      7219\n",
      "           1       1.00      1.00      1.00       276\n",
      "           2       1.00      1.00      1.00     10426\n",
      "           3       1.00      1.00      1.00      2375\n",
      "           4       1.00      1.00      1.00      2434\n",
      "           5       1.00      1.00      1.00       592\n",
      "\n",
      "    accuracy                           1.00     23322\n",
      "   macro avg       1.00      1.00      1.00     23322\n",
      "weighted avg       1.00      1.00      1.00     23322\n",
      "\n"
     ]
    }
   ],
   "source": [
    "print(\"The accuracy is: \", accuracy_score(y_train, clf_pred_train))\n",
    "print(classification_report(y_train, clf_pred_train))"
   ]
  },
  {
   "cell_type": "code",
   "execution_count": 71,
   "id": "77871e67",
   "metadata": {},
   "outputs": [],
   "source": [
    "import pickle\n",
    "pickle.dump(model_Clf, open('LightGBM', 'wb'))"
   ]
  },
  {
   "cell_type": "code",
   "execution_count": null,
   "id": "9c50bc9f",
   "metadata": {},
   "outputs": [],
   "source": []
  },
  {
   "cell_type": "code",
   "execution_count": null,
   "id": "fd5d8ac5",
   "metadata": {},
   "outputs": [],
   "source": []
  },
  {
   "cell_type": "code",
   "execution_count": null,
   "id": "4f8f8e13",
   "metadata": {},
   "outputs": [],
   "source": []
  },
  {
   "cell_type": "code",
   "execution_count": null,
   "id": "e196a3aa",
   "metadata": {},
   "outputs": [],
   "source": []
  },
  {
   "cell_type": "code",
   "execution_count": 72,
   "id": "9dd75a72",
   "metadata": {},
   "outputs": [],
   "source": [
    "# importing sklearn knn classifier\n",
    "from sklearn.neighbors import KNeighborsClassifier\n",
    "\n",
    "# K value set to be 3\n",
    "classifer = KNeighborsClassifier(n_neighbors=5 )"
   ]
  },
  {
   "cell_type": "code",
   "execution_count": 73,
   "id": "a267a9d3",
   "metadata": {},
   "outputs": [
    {
     "data": {
      "text/html": [
       "<style>#sk-container-id-4 {color: black;background-color: white;}#sk-container-id-4 pre{padding: 0;}#sk-container-id-4 div.sk-toggleable {background-color: white;}#sk-container-id-4 label.sk-toggleable__label {cursor: pointer;display: block;width: 100%;margin-bottom: 0;padding: 0.3em;box-sizing: border-box;text-align: center;}#sk-container-id-4 label.sk-toggleable__label-arrow:before {content: \"▸\";float: left;margin-right: 0.25em;color: #696969;}#sk-container-id-4 label.sk-toggleable__label-arrow:hover:before {color: black;}#sk-container-id-4 div.sk-estimator:hover label.sk-toggleable__label-arrow:before {color: black;}#sk-container-id-4 div.sk-toggleable__content {max-height: 0;max-width: 0;overflow: hidden;text-align: left;background-color: #f0f8ff;}#sk-container-id-4 div.sk-toggleable__content pre {margin: 0.2em;color: black;border-radius: 0.25em;background-color: #f0f8ff;}#sk-container-id-4 input.sk-toggleable__control:checked~div.sk-toggleable__content {max-height: 200px;max-width: 100%;overflow: auto;}#sk-container-id-4 input.sk-toggleable__control:checked~label.sk-toggleable__label-arrow:before {content: \"▾\";}#sk-container-id-4 div.sk-estimator input.sk-toggleable__control:checked~label.sk-toggleable__label {background-color: #d4ebff;}#sk-container-id-4 div.sk-label input.sk-toggleable__control:checked~label.sk-toggleable__label {background-color: #d4ebff;}#sk-container-id-4 input.sk-hidden--visually {border: 0;clip: rect(1px 1px 1px 1px);clip: rect(1px, 1px, 1px, 1px);height: 1px;margin: -1px;overflow: hidden;padding: 0;position: absolute;width: 1px;}#sk-container-id-4 div.sk-estimator {font-family: monospace;background-color: #f0f8ff;border: 1px dotted black;border-radius: 0.25em;box-sizing: border-box;margin-bottom: 0.5em;}#sk-container-id-4 div.sk-estimator:hover {background-color: #d4ebff;}#sk-container-id-4 div.sk-parallel-item::after {content: \"\";width: 100%;border-bottom: 1px solid gray;flex-grow: 1;}#sk-container-id-4 div.sk-label:hover label.sk-toggleable__label {background-color: #d4ebff;}#sk-container-id-4 div.sk-serial::before {content: \"\";position: absolute;border-left: 1px solid gray;box-sizing: border-box;top: 0;bottom: 0;left: 50%;z-index: 0;}#sk-container-id-4 div.sk-serial {display: flex;flex-direction: column;align-items: center;background-color: white;padding-right: 0.2em;padding-left: 0.2em;position: relative;}#sk-container-id-4 div.sk-item {position: relative;z-index: 1;}#sk-container-id-4 div.sk-parallel {display: flex;align-items: stretch;justify-content: center;background-color: white;position: relative;}#sk-container-id-4 div.sk-item::before, #sk-container-id-4 div.sk-parallel-item::before {content: \"\";position: absolute;border-left: 1px solid gray;box-sizing: border-box;top: 0;bottom: 0;left: 50%;z-index: -1;}#sk-container-id-4 div.sk-parallel-item {display: flex;flex-direction: column;z-index: 1;position: relative;background-color: white;}#sk-container-id-4 div.sk-parallel-item:first-child::after {align-self: flex-end;width: 50%;}#sk-container-id-4 div.sk-parallel-item:last-child::after {align-self: flex-start;width: 50%;}#sk-container-id-4 div.sk-parallel-item:only-child::after {width: 0;}#sk-container-id-4 div.sk-dashed-wrapped {border: 1px dashed gray;margin: 0 0.4em 0.5em 0.4em;box-sizing: border-box;padding-bottom: 0.4em;background-color: white;}#sk-container-id-4 div.sk-label label {font-family: monospace;font-weight: bold;display: inline-block;line-height: 1.2em;}#sk-container-id-4 div.sk-label-container {text-align: center;}#sk-container-id-4 div.sk-container {/* jupyter's `normalize.less` sets `[hidden] { display: none; }` but bootstrap.min.css set `[hidden] { display: none !important; }` so we also need the `!important` here to be able to override the default hidden behavior on the sphinx rendered scikit-learn.org. See: https://github.com/scikit-learn/scikit-learn/issues/21755 */display: inline-block !important;position: relative;}#sk-container-id-4 div.sk-text-repr-fallback {display: none;}</style><div id=\"sk-container-id-4\" class=\"sk-top-container\"><div class=\"sk-text-repr-fallback\"><pre>KNeighborsClassifier()</pre><b>In a Jupyter environment, please rerun this cell to show the HTML representation or trust the notebook. <br />On GitHub, the HTML representation is unable to render, please try loading this page with nbviewer.org.</b></div><div class=\"sk-container\" hidden><div class=\"sk-item\"><div class=\"sk-estimator sk-toggleable\"><input class=\"sk-toggleable__control sk-hidden--visually\" id=\"sk-estimator-id-4\" type=\"checkbox\" checked><label for=\"sk-estimator-id-4\" class=\"sk-toggleable__label sk-toggleable__label-arrow\">KNeighborsClassifier</label><div class=\"sk-toggleable__content\"><pre>KNeighborsClassifier()</pre></div></div></div></div></div>"
      ],
      "text/plain": [
       "KNeighborsClassifier()"
      ]
     },
     "execution_count": 73,
     "metadata": {},
     "output_type": "execute_result"
    }
   ],
   "source": [
    "# model training\n",
    "classifer.fit(X_train,y_train)"
   ]
  },
  {
   "cell_type": "code",
   "execution_count": 74,
   "id": "c7a53d8e",
   "metadata": {},
   "outputs": [],
   "source": [
    "# making predictions\n",
    "y_pred = classifer.predict(X_test)\n",
    "y_pred_train = classifer.predict(X_train)"
   ]
  },
  {
   "cell_type": "code",
   "execution_count": 99,
   "id": "c9ab3ac8",
   "metadata": {},
   "outputs": [
    {
     "data": {
      "text/plain": [
       "array([0, 4, 3, ..., 2, 0, 0])"
      ]
     },
     "execution_count": 99,
     "metadata": {},
     "output_type": "execute_result"
    }
   ],
   "source": [
    "y_pred"
   ]
  },
  {
   "cell_type": "code",
   "execution_count": 75,
   "id": "1eaf6573",
   "metadata": {},
   "outputs": [
    {
     "data": {
      "image/png": "[encoded data removed]",
      "text/plain": [
       "<Figure size 640x480 with 2 Axes>"
      ]
     },
     "metadata": {},
     "output_type": "display_data"
    }
   ],
   "source": [
    "# importing modules\n",
    "import matplotlib.pyplot as plt\n",
    "from sklearn.metrics import confusion_matrix, ConfusionMatrixDisplay\n",
    "\n",
    "# confusion matrix plotting\n",
    "cm = confusion_matrix(y_test, y_pred, labels=classifer.classes_)\n",
    "\n",
    "# labelling\n",
    "disp = ConfusionMatrixDisplay(confusion_matrix=cm, display_labels=classifer.classes_)\n",
    "disp.plot()\n",
    "plt.show()"
   ]
  },
  {
   "cell_type": "code",
   "execution_count": 76,
   "id": "fc9347d6",
   "metadata": {
    "scrolled": true
   },
   "outputs": [
    {
     "data": {
      "text/plain": [
       "0.990796318527411"
      ]
     },
     "execution_count": 76,
     "metadata": {},
     "output_type": "execute_result"
    }
   ],
   "source": [
    "# importing accuracy score\n",
    "from sklearn.metrics import accuracy_score\n",
    "\n",
    "# printing the accuracy \n",
    "accuracy_score(y_test,y_pred) "
   ]
  },
  {
   "cell_type": "code",
   "execution_count": 77,
   "id": "821ce808",
   "metadata": {
    "scrolled": true
   },
   "outputs": [
    {
     "name": "stdout",
     "output_type": "stream",
     "text": [
      "              precision    recall  f1-score   support\n",
      "\n",
      "           0       1.00      0.99      0.99      3181\n",
      "           1       0.98      0.98      0.98       111\n",
      "           2       0.99      1.00      0.99      4420\n",
      "           3       0.98      0.99      0.98      1005\n",
      "           4       0.99      0.97      0.98      1048\n",
      "           5       0.97      0.98      0.97       231\n",
      "\n",
      "    accuracy                           0.99      9996\n",
      "   macro avg       0.98      0.98      0.98      9996\n",
      "weighted avg       0.99      0.99      0.99      9996\n",
      "\n"
     ]
    }
   ],
   "source": [
    "print(classification_report(y_test, y_pred))"
   ]
  },
  {
   "cell_type": "code",
   "execution_count": 78,
   "id": "898eb2d8",
   "metadata": {},
   "outputs": [
    {
     "data": {
      "image/png": "[encoded data removed]",
      "text/plain": [
       "<Figure size 640x480 with 2 Axes>"
      ]
     },
     "metadata": {},
     "output_type": "display_data"
    }
   ],
   "source": [
    "cm = confusion_matrix(y_train, y_pred_train, labels=classifer.classes_)\n",
    "\n",
    "# labelling\n",
    "disp = ConfusionMatrixDisplay(confusion_matrix=cm, display_labels=CatBoost_clf.classes_)\n",
    "disp.plot()\n",
    "plt.show()"
   ]
  },
  {
   "cell_type": "code",
   "execution_count": 79,
   "id": "9489e558",
   "metadata": {},
   "outputs": [
    {
     "name": "stdout",
     "output_type": "stream",
     "text": [
      "The accuracy is:  0.9939970842980876\n",
      "              precision    recall  f1-score   support\n",
      "\n",
      "           0       1.00      1.00      1.00      7219\n",
      "           1       0.99      0.99      0.99       276\n",
      "           2       1.00      1.00      1.00     10426\n",
      "           3       0.98      0.99      0.99      2375\n",
      "           4       0.99      0.98      0.99      2434\n",
      "           5       0.98      0.98      0.98       592\n",
      "\n",
      "    accuracy                           0.99     23322\n",
      "   macro avg       0.99      0.99      0.99     23322\n",
      "weighted avg       0.99      0.99      0.99     23322\n",
      "\n"
     ]
    }
   ],
   "source": [
    "print(\"The accuracy is: \", accuracy_score(y_train, y_pred_train))\n",
    "print(classification_report(y_train, y_pred_train))"
   ]
  },
  {
   "cell_type": "code",
   "execution_count": 80,
   "id": "2b05f4ff",
   "metadata": {},
   "outputs": [],
   "source": [
    "import pickle\n",
    "pickle.dump(classifer, open('KNN', 'wb'))"
   ]
  },
  {
   "cell_type": "code",
   "execution_count": null,
   "id": "fc788823",
   "metadata": {},
   "outputs": [],
   "source": []
  },
  {
   "cell_type": "code",
   "execution_count": null,
   "id": "3477a643",
   "metadata": {},
   "outputs": [],
   "source": []
  },
  {
   "cell_type": "code",
   "execution_count": null,
   "id": "77700fbb",
   "metadata": {},
   "outputs": [],
   "source": []
  },
  {
   "cell_type": "code",
   "execution_count": null,
   "id": "30641b21",
   "metadata": {},
   "outputs": [],
   "source": []
  },
  {
   "cell_type": "code",
   "execution_count": null,
   "id": "f830840b",
   "metadata": {},
   "outputs": [],
   "source": []
  },
  {
   "cell_type": "code",
   "execution_count": 81,
   "id": "8e94bd2d",
   "metadata": {},
   "outputs": [
    {
     "data": {
      "text/html": [
       "<div>\n",
       "<style scoped>\n",
       "    .dataframe tbody tr th:only-of-type {\n",
       "        vertical-align: middle;\n",
       "    }\n",
       "\n",
       "    .dataframe tbody tr th {\n",
       "        vertical-align: top;\n",
       "    }\n",
       "\n",
       "    .dataframe thead th {\n",
       "        text-align: right;\n",
       "    }\n",
       "</style>\n",
       "<table border=\"1\" class=\"dataframe\">\n",
       "  <thead>\n",
       "    <tr style=\"text-align: right;\">\n",
       "      <th></th>\n",
       "      <th>Year</th>\n",
       "      <th>Month</th>\n",
       "      <th>Day</th>\n",
       "      <th>Hour</th>\n",
       "      <th>NowCast Conc.</th>\n",
       "      <th>AQI</th>\n",
       "      <th>AQI Category</th>\n",
       "      <th>Raw Conc.</th>\n",
       "    </tr>\n",
       "  </thead>\n",
       "  <tbody>\n",
       "    <tr>\n",
       "      <th>1</th>\n",
       "      <td>2019</td>\n",
       "      <td>2</td>\n",
       "      <td>6</td>\n",
       "      <td>7</td>\n",
       "      <td>17.0</td>\n",
       "      <td>61</td>\n",
       "      <td>2</td>\n",
       "      <td>20.0</td>\n",
       "    </tr>\n",
       "    <tr>\n",
       "      <th>2</th>\n",
       "      <td>2019</td>\n",
       "      <td>2</td>\n",
       "      <td>6</td>\n",
       "      <td>8</td>\n",
       "      <td>19.1</td>\n",
       "      <td>66</td>\n",
       "      <td>2</td>\n",
       "      <td>21.0</td>\n",
       "    </tr>\n",
       "    <tr>\n",
       "      <th>3</th>\n",
       "      <td>2019</td>\n",
       "      <td>2</td>\n",
       "      <td>6</td>\n",
       "      <td>9</td>\n",
       "      <td>22.4</td>\n",
       "      <td>73</td>\n",
       "      <td>2</td>\n",
       "      <td>25.0</td>\n",
       "    </tr>\n",
       "    <tr>\n",
       "      <th>4</th>\n",
       "      <td>2019</td>\n",
       "      <td>2</td>\n",
       "      <td>6</td>\n",
       "      <td>10</td>\n",
       "      <td>30.9</td>\n",
       "      <td>91</td>\n",
       "      <td>2</td>\n",
       "      <td>39.0</td>\n",
       "    </tr>\n",
       "    <tr>\n",
       "      <th>5</th>\n",
       "      <td>2019</td>\n",
       "      <td>2</td>\n",
       "      <td>6</td>\n",
       "      <td>11</td>\n",
       "      <td>35.0</td>\n",
       "      <td>99</td>\n",
       "      <td>2</td>\n",
       "      <td>39.0</td>\n",
       "    </tr>\n",
       "  </tbody>\n",
       "</table>\n",
       "</div>"
      ],
      "text/plain": [
       "   Year  Month  Day  Hour  NowCast Conc.  AQI  AQI Category  Raw Conc.\n",
       "1  2019      2    6     7           17.0   61             2       20.0\n",
       "2  2019      2    6     8           19.1   66             2       21.0\n",
       "3  2019      2    6     9           22.4   73             2       25.0\n",
       "4  2019      2    6    10           30.9   91             2       39.0\n",
       "5  2019      2    6    11           35.0   99             2       39.0"
      ]
     },
     "execution_count": 81,
     "metadata": {},
     "output_type": "execute_result"
    }
   ],
   "source": [
    "data.head()"
   ]
  },
  {
   "cell_type": "code",
   "execution_count": 82,
   "id": "c7829a2f",
   "metadata": {},
   "outputs": [],
   "source": [
    "# # importing required module for Neural Networks for Classification using TensorFlow\n",
    "# from tensorflow.keras.layers import Dense\n",
    "# from tensorflow.keras.layers import InputLayer\n",
    "# from tensorflow.keras import Sequential"
   ]
  },
  {
   "cell_type": "code",
   "execution_count": 83,
   "id": "b64480cd",
   "metadata": {},
   "outputs": [],
   "source": [
    "# # defineNeural Networks for Classification using TensorFlow model\n",
    "# model = Sequential()\n",
    "# # adding input layer with 16 nodes\n",
    "# model.add(InputLayer(6))\n",
    "# # adding hidden layer with 10 nodes\n",
    "# model.add(Dense(10, activation='relu', kernel_initializer='he_normal'))"
   ]
  },
  {
   "cell_type": "code",
   "execution_count": 97,
   "id": "2d236aba",
   "metadata": {},
   "outputs": [],
   "source": [
    "# adding output layer \n",
    "# model.add(Dense(6, activation='softmax'))"
   ]
  },
  {
   "cell_type": "code",
   "execution_count": 95,
   "id": "946610d9",
   "metadata": {
    "scrolled": true
   },
   "outputs": [],
   "source": [
    "# # compile the Neural Networks for Classification using TensorFlow model\n",
    "# model.compile(optimizer='adam', loss='sparse_categorical_crossentropy', metrics=['accuracy'])\n",
    "\n",
    "# # fit the model\n",
    "# model.fit(X_train, y_train, epochs=50)"
   ]
  },
  {
   "cell_type": "code",
   "execution_count": 96,
   "id": "e1ecb809",
   "metadata": {},
   "outputs": [],
   "source": [
    "# # evaluate Neural Networks for Classification using TensorFlow\n",
    "# evaluate = model.evaluate(X_test, y_test)\n",
    "# print('Test Accuracy:', evaluate[1])"
   ]
  },
  {
   "cell_type": "code",
   "execution_count": 87,
   "id": "b1f74176",
   "metadata": {},
   "outputs": [
    {
     "name": "stdout",
     "output_type": "stream",
     "text": [
      "              precision    recall  f1-score   support\n",
      "\n",
      "           0       1.00      0.99      0.99      3181\n",
      "           1       0.98      0.98      0.98       111\n",
      "           2       0.99      1.00      0.99      4420\n",
      "           3       0.98      0.99      0.98      1005\n",
      "           4       0.99      0.97      0.98      1048\n",
      "           5       0.97      0.98      0.97       231\n",
      "\n",
      "    accuracy                           0.99      9996\n",
      "   macro avg       0.98      0.98      0.98      9996\n",
      "weighted avg       0.99      0.99      0.99      9996\n",
      "\n"
     ]
    }
   ],
   "source": [
    "print(classification_report(y_test, y_pred))"
   ]
  },
  {
   "cell_type": "code",
   "execution_count": null,
   "id": "9c8861c6",
   "metadata": {},
   "outputs": [],
   "source": []
  },
  {
   "cell_type": "code",
   "execution_count": 33,
   "id": "ed45c477",
   "metadata": {},
   "outputs": [
    {
     "data": {
      "text/html": [
       "<style>#sk-container-id-1 {color: black;background-color: white;}#sk-container-id-1 pre{padding: 0;}#sk-container-id-1 div.sk-toggleable {background-color: white;}#sk-container-id-1 label.sk-toggleable__label {cursor: pointer;display: block;width: 100%;margin-bottom: 0;padding: 0.3em;box-sizing: border-box;text-align: center;}#sk-container-id-1 label.sk-toggleable__label-arrow:before {content: \"▸\";float: left;margin-right: 0.25em;color: #696969;}#sk-container-id-1 label.sk-toggleable__label-arrow:hover:before {color: black;}#sk-container-id-1 div.sk-estimator:hover label.sk-toggleable__label-arrow:before {color: black;}#sk-container-id-1 div.sk-toggleable__content {max-height: 0;max-width: 0;overflow: hidden;text-align: left;background-color: #f0f8ff;}#sk-container-id-1 div.sk-toggleable__content pre {margin: 0.2em;color: black;border-radius: 0.25em;background-color: #f0f8ff;}#sk-container-id-1 input.sk-toggleable__control:checked~div.sk-toggleable__content {max-height: 200px;max-width: 100%;overflow: auto;}#sk-container-id-1 input.sk-toggleable__control:checked~label.sk-toggleable__label-arrow:before {content: \"▾\";}#sk-container-id-1 div.sk-estimator input.sk-toggleable__control:checked~label.sk-toggleable__label {background-color: #d4ebff;}#sk-container-id-1 div.sk-label input.sk-toggleable__control:checked~label.sk-toggleable__label {background-color: #d4ebff;}#sk-container-id-1 input.sk-hidden--visually {border: 0;clip: rect(1px 1px 1px 1px);clip: rect(1px, 1px, 1px, 1px);height: 1px;margin: -1px;overflow: hidden;padding: 0;position: absolute;width: 1px;}#sk-container-id-1 div.sk-estimator {font-family: monospace;background-color: #f0f8ff;border: 1px dotted black;border-radius: 0.25em;box-sizing: border-box;margin-bottom: 0.5em;}#sk-container-id-1 div.sk-estimator:hover {background-color: #d4ebff;}#sk-container-id-1 div.sk-parallel-item::after {content: \"\";width: 100%;border-bottom: 1px solid gray;flex-grow: 1;}#sk-container-id-1 div.sk-label:hover label.sk-toggleable__label {background-color: #d4ebff;}#sk-container-id-1 div.sk-serial::before {content: \"\";position: absolute;border-left: 1px solid gray;box-sizing: border-box;top: 0;bottom: 0;left: 50%;z-index: 0;}#sk-container-id-1 div.sk-serial {display: flex;flex-direction: column;align-items: center;background-color: white;padding-right: 0.2em;padding-left: 0.2em;position: relative;}#sk-container-id-1 div.sk-item {position: relative;z-index: 1;}#sk-container-id-1 div.sk-parallel {display: flex;align-items: stretch;justify-content: center;background-color: white;position: relative;}#sk-container-id-1 div.sk-item::before, #sk-container-id-1 div.sk-parallel-item::before {content: \"\";position: absolute;border-left: 1px solid gray;box-sizing: border-box;top: 0;bottom: 0;left: 50%;z-index: -1;}#sk-container-id-1 div.sk-parallel-item {display: flex;flex-direction: column;z-index: 1;position: relative;background-color: white;}#sk-container-id-1 div.sk-parallel-item:first-child::after {align-self: flex-end;width: 50%;}#sk-container-id-1 div.sk-parallel-item:last-child::after {align-self: flex-start;width: 50%;}#sk-container-id-1 div.sk-parallel-item:only-child::after {width: 0;}#sk-container-id-1 div.sk-dashed-wrapped {border: 1px dashed gray;margin: 0 0.4em 0.5em 0.4em;box-sizing: border-box;padding-bottom: 0.4em;background-color: white;}#sk-container-id-1 div.sk-label label {font-family: monospace;font-weight: bold;display: inline-block;line-height: 1.2em;}#sk-container-id-1 div.sk-label-container {text-align: center;}#sk-container-id-1 div.sk-container {/* jupyter's `normalize.less` sets `[hidden] { display: none; }` but bootstrap.min.css set `[hidden] { display: none !important; }` so we also need the `!important` here to be able to override the default hidden behavior on the sphinx rendered scikit-learn.org. See: https://github.com/scikit-learn/scikit-learn/issues/21755 */display: inline-block !important;position: relative;}#sk-container-id-1 div.sk-text-repr-fallback {display: none;}</style><div id=\"sk-container-id-1\" class=\"sk-top-container\"><div class=\"sk-text-repr-fallback\"><pre>XGBClassifier(base_score=None, booster=None, callbacks=None,\n",
       "              colsample_bylevel=None, colsample_bynode=None,\n",
       "              colsample_bytree=None, early_stopping_rounds=None,\n",
       "              enable_categorical=False, eval_metric=None, feature_types=None,\n",
       "              gamma=None, gpu_id=None, grow_policy=None, importance_type=None,\n",
       "              interaction_constraints=None, learning_rate=None, max_bin=None,\n",
       "              max_cat_threshold=None, max_cat_to_onehot=None,\n",
       "              max_delta_step=None, max_depth=None, max_leaves=None,\n",
       "              min_child_weight=None, missing=nan, monotone_constraints=None,\n",
       "              n_estimators=100, n_jobs=None, num_parallel_tree=None,\n",
       "              objective=&#x27;multi:softprob&#x27;, predictor=None, ...)</pre><b>In a Jupyter environment, please rerun this cell to show the HTML representation or trust the notebook. <br />On GitHub, the HTML representation is unable to render, please try loading this page with nbviewer.org.</b></div><div class=\"sk-container\" hidden><div class=\"sk-item\"><div class=\"sk-estimator sk-toggleable\"><input class=\"sk-toggleable__control sk-hidden--visually\" id=\"sk-estimator-id-1\" type=\"checkbox\" checked><label for=\"sk-estimator-id-1\" class=\"sk-toggleable__label sk-toggleable__label-arrow\">XGBClassifier</label><div class=\"sk-toggleable__content\"><pre>XGBClassifier(base_score=None, booster=None, callbacks=None,\n",
       "              colsample_bylevel=None, colsample_bynode=None,\n",
       "              colsample_bytree=None, early_stopping_rounds=None,\n",
       "              enable_categorical=False, eval_metric=None, feature_types=None,\n",
       "              gamma=None, gpu_id=None, grow_policy=None, importance_type=None,\n",
       "              interaction_constraints=None, learning_rate=None, max_bin=None,\n",
       "              max_cat_threshold=None, max_cat_to_onehot=None,\n",
       "              max_delta_step=None, max_depth=None, max_leaves=None,\n",
       "              min_child_weight=None, missing=nan, monotone_constraints=None,\n",
       "              n_estimators=100, n_jobs=None, num_parallel_tree=None,\n",
       "              objective=&#x27;multi:softprob&#x27;, predictor=None, ...)</pre></div></div></div></div></div>"
      ],
      "text/plain": [
       "XGBClassifier(base_score=None, booster=None, callbacks=None,\n",
       "              colsample_bylevel=None, colsample_bynode=None,\n",
       "              colsample_bytree=None, early_stopping_rounds=None,\n",
       "              enable_categorical=False, eval_metric=None, feature_types=None,\n",
       "              gamma=None, gpu_id=None, grow_policy=None, importance_type=None,\n",
       "              interaction_constraints=None, learning_rate=None, max_bin=None,\n",
       "              max_cat_threshold=None, max_cat_to_onehot=None,\n",
       "              max_delta_step=None, max_depth=None, max_leaves=None,\n",
       "              min_child_weight=None, missing=nan, monotone_constraints=None,\n",
       "              n_estimators=100, n_jobs=None, num_parallel_tree=None,\n",
       "              objective='multi:softprob', predictor=None, ...)"
      ]
     },
     "execution_count": 33,
     "metadata": {},
     "output_type": "execute_result"
    }
   ],
   "source": [
    "# importing the xgboost module\n",
    "import xgboost as xgb\n",
    "\n",
    "# Default parameters\n",
    "xgboost_clf = xgb.XGBClassifier()\n",
    "\n",
    "# training the model\n",
    "xgboost_clf.fit(X_train,y_train)"
   ]
  },
  {
   "cell_type": "code",
   "execution_count": 37,
   "id": "fd4c411f",
   "metadata": {},
   "outputs": [],
   "source": [
    "# testing the model\n",
    "xgboost_preds = xgboost_clf.predict(X_train)"
   ]
  },
  {
   "cell_type": "code",
   "execution_count": 38,
   "id": "7040c998",
   "metadata": {},
   "outputs": [
    {
     "data": {
      "text/plain": [
       "array([2, 3, 2, ..., 2, 0, 2])"
      ]
     },
     "execution_count": 38,
     "metadata": {},
     "output_type": "execute_result"
    }
   ],
   "source": [
    "xgboost_preds"
   ]
  },
  {
   "cell_type": "code",
   "execution_count": 39,
   "id": "f6620b03",
   "metadata": {},
   "outputs": [
    {
     "data": {
      "image/png": "[encoded data removed]",
      "text/plain": [
       "<Figure size 640x480 with 2 Axes>"
      ]
     },
     "metadata": {},
     "output_type": "display_data"
    }
   ],
   "source": [
    "# importing modules\n",
    "import matplotlib.pyplot as plt\n",
    "from sklearn.metrics import confusion_matrix, ConfusionMatrixDisplay\n",
    "\n",
    "# confusion matrix plotting\n",
    "cm = confusion_matrix(y_train,xgboost_preds, labels=xgboost_clf.classes_)\n",
    "\n",
    "# labelling\n",
    "disp = ConfusionMatrixDisplay(confusion_matrix=cm, display_labels=xgboost_clf.classes_)\n",
    "disp.plot()\n",
    "plt.show()"
   ]
  },
  {
   "cell_type": "code",
   "execution_count": null,
   "id": "f4b25994",
   "metadata": {},
   "outputs": [],
   "source": []
  },
  {
   "cell_type": "code",
   "execution_count": 94,
   "id": "c0b8ba01",
   "metadata": {},
   "outputs": [],
   "source": [
    "# # importing the module\n",
    "# from sklearn.metrics import accuracy_score\n",
    "\n",
    "# # printing\n",
    "# print(\"The accuracy is: \", accuracy_score(y_test, xgboost_preds))"
   ]
  },
  {
   "cell_type": "code",
   "execution_count": 100,
   "id": "acc7f815",
   "metadata": {},
   "outputs": [],
   "source": [
    "import pickle\n",
    "pickle.dump(xgboost_clf, open('XGBoost', 'wb'))"
   ]
  },
  {
   "cell_type": "code",
   "execution_count": null,
   "id": "4313fb54",
   "metadata": {
    "scrolled": false
   },
   "outputs": [],
   "source": []
  },
  {
   "cell_type": "code",
   "execution_count": null,
   "id": "5885512c",
   "metadata": {},
   "outputs": [],
   "source": []
  },
  {
   "cell_type": "code",
   "execution_count": null,
   "id": "0668577d",
   "metadata": {},
   "outputs": [],
   "source": []
  },
  {
   "cell_type": "code",
   "execution_count": null,
   "id": "5f3332d1",
   "metadata": {},
   "outputs": [],
   "source": []
  },
  {
   "cell_type": "code",
   "execution_count": 13,
   "id": "c83b0378",
   "metadata": {},
   "outputs": [],
   "source": [
    "from sklearn import preprocessing\n",
    "\n",
    "\n",
    "# creating labing encoding object\n",
    "label_encoder = preprocessing.LabelEncoder()\n",
    "  \n",
    "# Encode labels in multiple columns\n",
    "data['AQI Category']= label_encoder.fit_transform(data['AQI Category'])"
   ]
  },
  {
   "cell_type": "code",
   "execution_count": 19,
   "id": "a77045f8",
   "metadata": {},
   "outputs": [],
   "source": [
    "# importing the module\n",
    "from sklearn.model_selection import train_test_split\n",
    "\n",
    "# splitting the dataset \n",
    "X_train, X_test, y_train, y_test = train_test_split(Input, Output, test_size=0.30, random_state=1)"
   ]
  },
  {
   "cell_type": "code",
   "execution_count": 20,
   "id": "96501e3b",
   "metadata": {},
   "outputs": [
    {
     "name": "stderr",
     "output_type": "stream",
     "text": [
      "2023-04-27 14:38:58.160512: I tensorflow/tsl/cuda/cudart_stub.cc:28] Could not find cuda drivers on your machine, GPU will not be used.\n",
      "2023-04-27 14:38:58.480060: I tensorflow/tsl/cuda/cudart_stub.cc:28] Could not find cuda drivers on your machine, GPU will not be used.\n",
      "2023-04-27 14:38:58.481397: I tensorflow/core/platform/cpu_feature_guard.cc:182] This TensorFlow binary is optimized to use available CPU instructions in performance-critical operations.\n",
      "To enable the following instructions: AVX2 FMA, in other operations, rebuild TensorFlow with the appropriate compiler flags.\n",
      "2023-04-27 14:38:59.935413: W tensorflow/compiler/tf2tensorrt/utils/py_utils.cc:38] TF-TRT Warning: Could not find TensorRT\n"
     ]
    }
   ],
   "source": [
    "# importing required module for Neural Networks for Classification using TensorFlow\n",
    "from tensorflow.keras.layers import Dense\n",
    "from tensorflow.keras.layers import InputLayer\n",
    "from tensorflow.keras import Sequential"
   ]
  },
  {
   "cell_type": "code",
   "execution_count": 26,
   "id": "21b1cbbe",
   "metadata": {},
   "outputs": [],
   "source": [
    "model = Sequential()\n"
   ]
  },
  {
   "cell_type": "code",
   "execution_count": 27,
   "id": "3752abd4",
   "metadata": {},
   "outputs": [],
   "source": [
    "model.add(InputLayer(7))"
   ]
  },
  {
   "cell_type": "code",
   "execution_count": 28,
   "id": "6adab281",
   "metadata": {},
   "outputs": [],
   "source": [
    "model.add(Dense(20, activation='relu', kernel_initializer='he_normal'))\n",
    "model.add(Dense(10, activation='relu', kernel_initializer='he_normal'))\n"
   ]
  },
  {
   "cell_type": "code",
   "execution_count": 29,
   "id": "a8c71c22",
   "metadata": {},
   "outputs": [],
   "source": [
    "# adding output layer \n",
    "model.add(Dense(6, activation='softmax'))"
   ]
  },
  {
   "cell_type": "code",
   "execution_count": 30,
   "id": "c2937043",
   "metadata": {},
   "outputs": [
    {
     "name": "stdout",
     "output_type": "stream",
     "text": [
      "Epoch 1/50\n",
      "729/729 [==============================] - 2s 1ms/step - loss: 60.5463 - accuracy: 0.5093\n",
      "Epoch 2/50\n",
      "729/729 [==============================] - 1s 2ms/step - loss: 1.8425 - accuracy: 0.7280\n",
      "Epoch 3/50\n",
      "729/729 [==============================] - 1s 1ms/step - loss: 1.2342 - accuracy: 0.7788\n",
      "Epoch 4/50\n",
      "729/729 [==============================] - 1s 1ms/step - loss: 0.9201 - accuracy: 0.8026\n",
      "Epoch 5/50\n",
      "729/729 [==============================] - 1s 1ms/step - loss: 0.7037 - accuracy: 0.8186\n",
      "Epoch 6/50\n",
      "729/729 [==============================] - 1s 2ms/step - loss: 0.4773 - accuracy: 0.8522\n",
      "Epoch 7/50\n",
      "729/729 [==============================] - 1s 1ms/step - loss: 0.3864 - accuracy: 0.8666\n",
      "Epoch 8/50\n",
      "729/729 [==============================] - 1s 1ms/step - loss: 0.3187 - accuracy: 0.8850\n",
      "Epoch 9/50\n",
      "729/729 [==============================] - 1s 1ms/step - loss: 0.3105 - accuracy: 0.8832\n",
      "Epoch 10/50\n",
      "729/729 [==============================] - 1s 1ms/step - loss: 0.2630 - accuracy: 0.8997\n",
      "Epoch 11/50\n",
      "729/729 [==============================] - 1s 1ms/step - loss: 0.2363 - accuracy: 0.9116\n",
      "Epoch 12/50\n",
      "729/729 [==============================] - 1s 1ms/step - loss: 0.2060 - accuracy: 0.9195\n",
      "Epoch 13/50\n",
      "729/729 [==============================] - 1s 1ms/step - loss: 0.2094 - accuracy: 0.9208\n",
      "Epoch 14/50\n",
      "729/729 [==============================] - 1s 1ms/step - loss: 0.1745 - accuracy: 0.9348\n",
      "Epoch 15/50\n",
      "729/729 [==============================] - 1s 1ms/step - loss: 0.1781 - accuracy: 0.9331\n",
      "Epoch 16/50\n",
      "729/729 [==============================] - 1s 1ms/step - loss: 0.1791 - accuracy: 0.9332\n",
      "Epoch 17/50\n",
      "729/729 [==============================] - 1s 2ms/step - loss: 0.1635 - accuracy: 0.9378\n",
      "Epoch 18/50\n",
      "729/729 [==============================] - 1s 1ms/step - loss: 0.1573 - accuracy: 0.9409\n",
      "Epoch 19/50\n",
      "729/729 [==============================] - 1s 1ms/step - loss: 0.1552 - accuracy: 0.9404\n",
      "Epoch 20/50\n",
      "729/729 [==============================] - 1s 1ms/step - loss: 0.1503 - accuracy: 0.9449\n",
      "Epoch 21/50\n",
      "729/729 [==============================] - 1s 1ms/step - loss: 0.1677 - accuracy: 0.9395\n",
      "Epoch 22/50\n",
      "729/729 [==============================] - 1s 1ms/step - loss: 0.1311 - accuracy: 0.9516\n",
      "Epoch 23/50\n",
      "729/729 [==============================] - 1s 1ms/step - loss: 0.1452 - accuracy: 0.9446\n",
      "Epoch 24/50\n",
      "729/729 [==============================] - 1s 1ms/step - loss: 0.1443 - accuracy: 0.9472\n",
      "Epoch 25/50\n",
      "729/729 [==============================] - 1s 1ms/step - loss: 0.1184 - accuracy: 0.9542\n",
      "Epoch 26/50\n",
      "729/729 [==============================] - 1s 1ms/step - loss: 0.1446 - accuracy: 0.9488\n",
      "Epoch 27/50\n",
      "729/729 [==============================] - 1s 1ms/step - loss: 0.1105 - accuracy: 0.9619\n",
      "Epoch 28/50\n",
      "729/729 [==============================] - 1s 1ms/step - loss: 0.1824 - accuracy: 0.9402\n",
      "Epoch 29/50\n",
      "729/729 [==============================] - 1s 1ms/step - loss: 0.1099 - accuracy: 0.9582\n",
      "Epoch 30/50\n",
      "729/729 [==============================] - 1s 1ms/step - loss: 0.1029 - accuracy: 0.9597\n",
      "Epoch 31/50\n",
      "729/729 [==============================] - 1s 1ms/step - loss: 0.1027 - accuracy: 0.9623\n",
      "Epoch 32/50\n",
      "729/729 [==============================] - 1s 1ms/step - loss: 0.1051 - accuracy: 0.9604\n",
      "Epoch 33/50\n",
      "729/729 [==============================] - 1s 1ms/step - loss: 0.1145 - accuracy: 0.9563\n",
      "Epoch 34/50\n",
      "729/729 [==============================] - 1s 1ms/step - loss: 0.1176 - accuracy: 0.9609\n",
      "Epoch 35/50\n",
      "729/729 [==============================] - 1s 1ms/step - loss: 0.1058 - accuracy: 0.9604\n",
      "Epoch 36/50\n",
      "729/729 [==============================] - 1s 1ms/step - loss: 0.1118 - accuracy: 0.9586\n",
      "Epoch 37/50\n",
      "729/729 [==============================] - 1s 1ms/step - loss: 0.1129 - accuracy: 0.9592\n",
      "Epoch 38/50\n",
      "729/729 [==============================] - 1s 1ms/step - loss: 0.0954 - accuracy: 0.9657\n",
      "Epoch 39/50\n",
      "729/729 [==============================] - 1s 1ms/step - loss: 0.1089 - accuracy: 0.9614\n",
      "Epoch 40/50\n",
      "729/729 [==============================] - 1s 1ms/step - loss: 0.1020 - accuracy: 0.9627\n",
      "Epoch 41/50\n",
      "729/729 [==============================] - 1s 1ms/step - loss: 0.0963 - accuracy: 0.9632\n",
      "Epoch 42/50\n",
      "729/729 [==============================] - 1s 1ms/step - loss: 0.1109 - accuracy: 0.9618\n",
      "Epoch 43/50\n",
      "729/729 [==============================] - 1s 1ms/step - loss: 0.1109 - accuracy: 0.9651\n",
      "Epoch 44/50\n",
      "729/729 [==============================] - 1s 1ms/step - loss: 0.0936 - accuracy: 0.9667\n",
      "Epoch 45/50\n",
      "729/729 [==============================] - 1s 1ms/step - loss: 0.1075 - accuracy: 0.9639\n",
      "Epoch 46/50\n",
      "729/729 [==============================] - 1s 1ms/step - loss: 0.0937 - accuracy: 0.9666\n",
      "Epoch 47/50\n",
      "729/729 [==============================] - 1s 1ms/step - loss: 0.1038 - accuracy: 0.9636\n",
      "Epoch 48/50\n",
      "729/729 [==============================] - 1s 1ms/step - loss: 0.0915 - accuracy: 0.9679\n",
      "Epoch 49/50\n",
      "729/729 [==============================] - 1s 1ms/step - loss: 0.1108 - accuracy: 0.9664\n",
      "Epoch 50/50\n",
      "729/729 [==============================] - 1s 1ms/step - loss: 0.0968 - accuracy: 0.9664\n"
     ]
    },
    {
     "data": {
      "text/plain": [
       "<keras.callbacks.History at 0x7fbac819e560>"
      ]
     },
     "execution_count": 30,
     "metadata": {},
     "output_type": "execute_result"
    }
   ],
   "source": [
    "# compile the Neural Networks for Classification using TensorFlow model\n",
    "model.compile(optimizer='adam', loss='sparse_categorical_crossentropy', metrics=['accuracy'])\n",
    "\n",
    "# fit the model\n",
    "model.fit(X_train, y_train, epochs=50)"
   ]
  },
  {
   "cell_type": "code",
   "execution_count": 31,
   "id": "52379020",
   "metadata": {},
   "outputs": [
    {
     "name": "stdout",
     "output_type": "stream",
     "text": [
      "313/313 [==============================] - 1s 1ms/step - loss: 0.0665 - accuracy: 0.9707\n",
      "Test Accuracy: 0.9706882834434509\n"
     ]
    }
   ],
   "source": [
    "# evaluate Neural Networks for Classification using TensorFlow\n",
    "evaluate = model.evaluate(X_test, y_test)\n",
    "print('Test Accuracy:', evaluate[1])"
   ]
  },
  {
   "cell_type": "code",
   "execution_count": 32,
   "id": "f8f6f08e",
   "metadata": {},
   "outputs": [
    {
     "name": "stdout",
     "output_type": "stream",
     "text": [
      "729/729 [==============================] - 1s 1ms/step - loss: 0.0672 - accuracy: 0.9677\n",
      "Test Accuracy: 0.9676700234413147\n"
     ]
    }
   ],
   "source": [
    "# evaluate Neural Networks for Classification using TensorFlow\n",
    "evaluate = model.evaluate(X_train, y_train)\n",
    "print('Test Accuracy:', evaluate[1])"
   ]
  },
  {
   "cell_type": "code",
   "execution_count": null,
   "id": "d2fff608",
   "metadata": {},
   "outputs": [],
   "source": []
  },
  {
   "cell_type": "code",
   "execution_count": null,
   "id": "5cfc0a93",
   "metadata": {},
   "outputs": [],
   "source": []
  }
 ],
 "metadata": {
  "kernelspec": {
   "display_name": "Python 3 (ipykernel)",
   "language": "python",
   "name": "python3"
  },
  "language_info": {
   "codemirror_mode": {
    "name": "ipython",
    "version": 3
   },
   "file_extension": ".py",
   "mimetype": "text/x-python",
   "name": "python",
   "nbconvert_exporter": "python",
   "pygments_lexer": "ipython3",
   "version": "3.10.6"
  }
 },
 "nbformat": 4,
 "nbformat_minor": 5
}
